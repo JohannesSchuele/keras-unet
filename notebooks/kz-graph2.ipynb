{
 "cells": [
  {
   "cell_type": "code",
   "execution_count": 1,
   "metadata": {
    "ExecuteTime": {
     "end_time": "2019-06-11T09:30:08.991851Z",
     "start_time": "2019-06-11T09:30:08.985860Z"
    }
   },
   "outputs": [],
   "source": [
    "import numpy as np\n",
    "import matplotlib.pyplot as plt\n",
    "%matplotlib inline\n",
    "import glob\n",
    "import os\n",
    "import sys\n",
    "from PIL import Image"
   ]
  },
  {
   "cell_type": "markdown",
   "metadata": {},
   "source": [
    "## Load data"
   ]
  },
  {
   "cell_type": "code",
   "execution_count": 2,
   "metadata": {
    "ExecuteTime": {
     "end_time": "2019-06-11T09:30:09.006881Z",
     "start_time": "2019-06-11T09:30:08.994853Z"
    }
   },
   "outputs": [],
   "source": [
    "#masks = glob.glob(\"../input/graph_images/train/label/*.png\")\n",
    "masks = np.load('../input/graph_images/train/label/adjcouput_matrix.npy',allow_pickle='TRUE').item()\n",
    "\n",
    "orgs = glob.glob(\"../input/graph_images/train/image/*.png\")"
   ]
  },
  {
   "cell_type": "code",
   "execution_count": 3,
   "metadata": {
    "ExecuteTime": {
     "end_time": "2019-06-11T09:30:09.224878Z",
     "start_time": "2019-06-11T09:30:09.009844Z"
    }
   },
   "outputs": [
    {
     "name": "stdout",
     "output_type": "stream",
     "text": [
      "../input/graph_images/train/image\\00000graph.png\n",
      "00000\n",
      "../input/graph_images/train/image\\00001graph.png\n",
      "00001\n",
      "../input/graph_images/train/image\\00002graph.png\n",
      "00002\n",
      "../input/graph_images/train/image\\00003graph.png\n",
      "00003\n",
      "../input/graph_images/train/image\\00004graph.png\n",
      "00004\n",
      "../input/graph_images/train/image\\00005graph.png\n",
      "00005\n",
      "../input/graph_images/train/image\\00006graph.png\n",
      "00006\n",
      "../input/graph_images/train/image\\00007graph.png\n",
      "00007\n",
      "../input/graph_images/train/image\\00008graph.png\n",
      "00008\n",
      "../input/graph_images/train/image\\00009graph.png\n",
      "00009\n",
      "../input/graph_images/train/image\\00010graph.png\n",
      "00010\n",
      "../input/graph_images/train/image\\00011graph.png\n",
      "00011\n",
      "../input/graph_images/train/image\\00012graph.png\n",
      "00012\n",
      "../input/graph_images/train/image\\00013graph.png\n",
      "00013\n",
      "../input/graph_images/train/image\\00014graph.png\n",
      "00014\n",
      "../input/graph_images/train/image\\00015graph.png\n",
      "00015\n",
      "../input/graph_images/train/image\\00016graph.png\n",
      "00016\n",
      "../input/graph_images/train/image\\00017graph.png\n",
      "00017\n",
      "../input/graph_images/train/image\\00018graph.png\n",
      "00018\n",
      "../input/graph_images/train/image\\00019graph.png\n",
      "00019\n",
      "../input/graph_images/train/image\\00020graph.png\n",
      "00020\n",
      "../input/graph_images/train/image\\00021graph.png\n",
      "00021\n",
      "../input/graph_images/train/image\\00022graph.png\n",
      "00022\n",
      "../input/graph_images/train/image\\00023graph.png\n",
      "00023\n",
      "../input/graph_images/train/image\\00024graph.png\n",
      "00024\n",
      "../input/graph_images/train/image\\00025graph.png\n",
      "00025\n",
      "../input/graph_images/train/image\\00026graph.png\n",
      "00026\n",
      "../input/graph_images/train/image\\00027graph.png\n",
      "00027\n",
      "../input/graph_images/train/image\\00028graph.png\n",
      "00028\n",
      "../input/graph_images/train/image\\00029graph.png\n",
      "00029\n",
      "../input/graph_images/train/image\\00030graph.png\n",
      "00030\n",
      "../input/graph_images/train/image\\00031graph.png\n",
      "00031\n",
      "../input/graph_images/train/image\\00032graph.png\n",
      "00032\n",
      "../input/graph_images/train/image\\00033graph.png\n",
      "00033\n",
      "../input/graph_images/train/image\\00034graph.png\n",
      "00034\n",
      "../input/graph_images/train/image\\00035graph.png\n",
      "00035\n",
      "../input/graph_images/train/image\\00036graph.png\n",
      "00036\n",
      "../input/graph_images/train/image\\00037graph.png\n",
      "00037\n",
      "../input/graph_images/train/image\\00038graph.png\n",
      "00038\n",
      "../input/graph_images/train/image\\00039graph.png\n",
      "00039\n",
      "../input/graph_images/train/image\\00040graph.png\n",
      "00040\n",
      "../input/graph_images/train/image\\00041graph.png\n",
      "00041\n",
      "../input/graph_images/train/image\\00042graph.png\n",
      "00042\n",
      "../input/graph_images/train/image\\00043graph.png\n",
      "00043\n",
      "../input/graph_images/train/image\\00044graph.png\n",
      "00044\n",
      "../input/graph_images/train/image\\00045graph.png\n",
      "00045\n",
      "../input/graph_images/train/image\\00046graph.png\n",
      "00046\n",
      "../input/graph_images/train/image\\00047graph.png\n",
      "00047\n",
      "../input/graph_images/train/image\\00048graph.png\n",
      "00048\n",
      "../input/graph_images/train/image\\00049graph.png\n",
      "00049\n",
      "../input/graph_images/train/image\\00050graph.png\n",
      "00050\n",
      "../input/graph_images/train/image\\00051graph.png\n",
      "00051\n",
      "../input/graph_images/train/image\\00052graph.png\n",
      "00052\n",
      "../input/graph_images/train/image\\00053graph.png\n",
      "00053\n",
      "../input/graph_images/train/image\\00054graph.png\n",
      "00054\n",
      "../input/graph_images/train/image\\00055graph.png\n",
      "00055\n",
      "../input/graph_images/train/image\\00056graph.png\n",
      "00056\n",
      "../input/graph_images/train/image\\00057graph.png\n",
      "00057\n",
      "../input/graph_images/train/image\\00058graph.png\n",
      "00058\n",
      "../input/graph_images/train/image\\00059graph.png\n",
      "00059\n",
      "../input/graph_images/train/image\\00060graph.png\n",
      "00060\n",
      "../input/graph_images/train/image\\00061graph.png\n",
      "00061\n",
      "../input/graph_images/train/image\\00062graph.png\n",
      "00062\n",
      "../input/graph_images/train/image\\00063graph.png\n",
      "00063\n",
      "../input/graph_images/train/image\\00064graph.png\n",
      "00064\n",
      "../input/graph_images/train/image\\00065graph.png\n",
      "00065\n",
      "../input/graph_images/train/image\\00066graph.png\n",
      "00066\n",
      "../input/graph_images/train/image\\00067graph.png\n",
      "00067\n",
      "../input/graph_images/train/image\\00068graph.png\n",
      "00068\n",
      "../input/graph_images/train/image\\00069graph.png\n",
      "00069\n",
      "../input/graph_images/train/image\\00070graph.png\n",
      "00070\n",
      "../input/graph_images/train/image\\00071graph.png\n",
      "00071\n",
      "../input/graph_images/train/image\\00072graph.png\n",
      "00072\n",
      "../input/graph_images/train/image\\00073graph.png\n",
      "00073\n",
      "../input/graph_images/train/image\\00074graph.png\n",
      "00074\n",
      "../input/graph_images/train/image\\00075graph.png\n",
      "00075\n",
      "../input/graph_images/train/image\\00076graph.png\n",
      "00076\n",
      "../input/graph_images/train/image\\00077graph.png\n",
      "00077\n",
      "../input/graph_images/train/image\\00078graph.png\n",
      "00078\n",
      "../input/graph_images/train/image\\00079graph.png\n",
      "00079\n",
      "../input/graph_images/train/image\\00080graph.png\n",
      "00080\n",
      "../input/graph_images/train/image\\00081graph.png\n",
      "00081\n",
      "../input/graph_images/train/image\\00082graph.png\n",
      "00082\n",
      "../input/graph_images/train/image\\00083graph.png\n",
      "00083\n",
      "../input/graph_images/train/image\\00084graph.png\n",
      "00084\n",
      "../input/graph_images/train/image\\00085graph.png\n",
      "00085\n",
      "../input/graph_images/train/image\\00086graph.png\n",
      "00086\n",
      "../input/graph_images/train/image\\00087graph.png\n",
      "00087\n",
      "../input/graph_images/train/image\\00088graph.png\n",
      "00088\n",
      "../input/graph_images/train/image\\00089graph.png\n",
      "00089\n",
      "../input/graph_images/train/image\\00090graph.png\n",
      "00090\n",
      "../input/graph_images/train/image\\00091graph.png\n",
      "00091\n",
      "../input/graph_images/train/image\\00092graph.png\n",
      "00092\n",
      "../input/graph_images/train/image\\00093graph.png\n",
      "00093\n",
      "../input/graph_images/train/image\\00094graph.png\n",
      "00094\n",
      "../input/graph_images/train/image\\00095graph.png\n",
      "00095\n",
      "../input/graph_images/train/image\\00096graph.png\n",
      "00096\n",
      "../input/graph_images/train/image\\00097graph.png\n",
      "00097\n",
      "../input/graph_images/train/image\\00098graph.png\n",
      "00098\n",
      "../input/graph_images/train/image\\00099graph.png\n",
      "00099\n"
     ]
    }
   ],
   "source": [
    "imgs_list = []\n",
    "masks_list = []\n",
    "for image, mask in zip(orgs, masks):\n",
    "\n",
    "\n",
    "    imgs_list.append(np.array(Image.open(image).convert('L').resize((512,512))))\n",
    "    print(image)\n",
    "    key = image\n",
    "    print(key[-14:-9])\n",
    "    graph_label = masks[key[-14:-9]]\n",
    "    #im = Image.open(mask).resize((512,512))\n",
    "\n",
    "\n",
    "    #width, height = im.size   # Get dimensions\n",
    "\n",
    "    #left = (width - 388)/2\n",
    "    #top = (height - 388)/2\n",
    "    #right = (width + 388)/2\n",
    "    #bottom = (height + 388)/2\n",
    "\n",
    "    #im_cropped = im.crop((left, top, right, bottom))\n",
    "    masks_list.append(np.array(graph_label))\n",
    "\n",
    "imgs_np = np.asarray(imgs_list)\n",
    "masks_np = np.asarray(masks_list)"
   ]
  },
  {
   "cell_type": "code",
   "execution_count": 4,
   "metadata": {
    "ExecuteTime": {
     "end_time": "2019-06-11T09:30:09.232851Z",
     "start_time": "2019-06-11T09:30:09.227865Z"
    }
   },
   "outputs": [
    {
     "name": "stdout",
     "output_type": "stream",
     "text": [
      "(100, 512, 512) (100, 35, 37)\n"
     ]
    }
   ],
   "source": [
    "print(imgs_np.shape, masks_np.shape)"
   ]
  },
  {
   "cell_type": "markdown",
   "metadata": {},
   "source": [
    "## Plot images + masks + overlay (mask over original)"
   ]
  },
  {
   "cell_type": "code",
   "execution_count": 5,
   "metadata": {
    "ExecuteTime": {
     "end_time": "2019-06-11T09:30:12.691559Z",
     "start_time": "2019-06-11T09:30:09.235863Z"
    },
    "scrolled": false
   },
   "outputs": [
    {
     "name": "stdout",
     "output_type": "stream",
     "text": [
      "-----------------------------------------\n",
      "keras-unet init: TF version is >= 2.0.0 - using `tf.keras` instead of `Keras`\n",
      "-----------------------------------------\n"
     ]
    }
   ],
   "source": [
    "from keras_unet.utils import plot_imgs\n",
    "\n",
    "#plot_imgs(org_imgs=imgs_np, mask_imgs=masks_np, nm_img_to_plot=10, figsize=6)\n"
   ]
  },
  {
   "cell_type": "markdown",
   "metadata": {},
   "source": [
    "## Get data into correct shape, dtype and range (0.0-1.0)"
   ]
  },
  {
   "cell_type": "code",
   "execution_count": 6,
   "metadata": {
    "ExecuteTime": {
     "end_time": "2019-06-11T09:30:12.715558Z",
     "start_time": "2019-06-11T09:30:12.694561Z"
    }
   },
   "outputs": [
    {
     "name": "stdout",
     "output_type": "stream",
     "text": [
      "255 1.0\n"
     ]
    }
   ],
   "source": [
    "print(imgs_np.max(), masks_np.max())"
   ]
  },
  {
   "cell_type": "code",
   "execution_count": 7,
   "metadata": {
    "ExecuteTime": {
     "end_time": "2019-06-11T09:30:12.817910Z",
     "start_time": "2019-06-11T09:30:12.719561Z"
    }
   },
   "outputs": [],
   "source": [
    "x = np.asarray(imgs_np, dtype=np.float32)/255\n",
    "y = np.asarray(masks_np, dtype=np.float32)/255"
   ]
  },
  {
   "cell_type": "code",
   "execution_count": 8,
   "metadata": {
    "ExecuteTime": {
     "end_time": "2019-06-11T09:30:12.830912Z",
     "start_time": "2019-06-11T09:30:12.819911Z"
    }
   },
   "outputs": [
    {
     "name": "stdout",
     "output_type": "stream",
     "text": [
      "1.0 0.003921569\n"
     ]
    }
   ],
   "source": [
    "print(x.max(), y.max())"
   ]
  },
  {
   "cell_type": "code",
   "execution_count": 9,
   "metadata": {
    "ExecuteTime": {
     "end_time": "2019-06-11T09:30:12.838908Z",
     "start_time": "2019-06-11T09:30:12.833907Z"
    }
   },
   "outputs": [
    {
     "name": "stdout",
     "output_type": "stream",
     "text": [
      "(100, 512, 512) (100, 35, 37)\n"
     ]
    }
   ],
   "source": [
    "print(x.shape, y.shape)"
   ]
  },
  {
   "cell_type": "code",
   "execution_count": 10,
   "metadata": {
    "ExecuteTime": {
     "end_time": "2019-06-11T09:30:12.849910Z",
     "start_time": "2019-06-11T09:30:12.841937Z"
    }
   },
   "outputs": [
    {
     "name": "stdout",
     "output_type": "stream",
     "text": [
      "(100, 512, 512) (100, 35, 37, 1)\n"
     ]
    }
   ],
   "source": [
    "y = y.reshape(y.shape[0], y.shape[1], y.shape[2], 1)\n",
    "print(x.shape, y.shape)"
   ]
  },
  {
   "cell_type": "code",
   "execution_count": 11,
   "metadata": {
    "ExecuteTime": {
     "end_time": "2019-06-11T09:30:12.861906Z",
     "start_time": "2019-06-11T09:30:12.852929Z"
    }
   },
   "outputs": [
    {
     "name": "stdout",
     "output_type": "stream",
     "text": [
      "(100, 512, 512, 1) (100, 35, 37, 1)\n"
     ]
    }
   ],
   "source": [
    "x = x.reshape(x.shape[0], x.shape[1], x.shape[2], 1)\n",
    "print(x.shape, y.shape)"
   ]
  },
  {
   "cell_type": "markdown",
   "metadata": {},
   "source": [
    "##  Train/val split"
   ]
  },
  {
   "cell_type": "code",
   "execution_count": 12,
   "metadata": {
    "ExecuteTime": {
     "end_time": "2019-06-11T09:30:12.908912Z",
     "start_time": "2019-06-11T09:30:12.863912Z"
    }
   },
   "outputs": [
    {
     "name": "stdout",
     "output_type": "stream",
     "text": [
      "x_train:  (50, 512, 512, 1)\n",
      "y_train:  (50, 35, 37, 1)\n",
      "x_val:  (50, 512, 512, 1)\n",
      "y_val:  (50, 35, 37, 1)\n"
     ]
    }
   ],
   "source": [
    "from sklearn.model_selection import train_test_split\n",
    "\n",
    "x_train, x_val, y_train, y_val = train_test_split(x, y, test_size=0.5, random_state=0)\n",
    "\n",
    "print(\"x_train: \", x_train.shape)\n",
    "print(\"y_train: \", y_train.shape)\n",
    "print(\"x_val: \", x_val.shape)\n",
    "print(\"y_val: \", y_val.shape)"
   ]
  },
  {
   "cell_type": "markdown",
   "metadata": {},
   "source": [
    "## Prepare train generator with data augmentation"
   ]
  },
  {
   "cell_type": "code",
   "execution_count": 13,
   "metadata": {
    "ExecuteTime": {
     "end_time": "2019-06-11T09:30:13.426908Z",
     "start_time": "2019-06-11T09:30:12.911908Z"
    }
   },
   "outputs": [],
   "source": [
    "#from keras_unet.utils import get_augmented\n",
    "#\n",
    "# train_gen = get_augmented(\n",
    "#     x_train, y_train, batch_size=2,\n",
    "#     data_gen_args = dict(\n",
    "#         rotation_range=15.,\n",
    "#         width_shift_range=0.05,\n",
    "#         height_shift_range=0.05,\n",
    "#         shear_range=50,\n",
    "#         zoom_range=0.2,\n",
    "#         horizontal_flip=True,\n",
    "#         vertical_flip=True,\n",
    "#         fill_mode='constant'\n",
    "#     ))\n"
   ]
  },
  {
   "cell_type": "code",
   "execution_count": 14,
   "metadata": {
    "ExecuteTime": {
     "end_time": "2019-06-11T09:30:14.195908Z",
     "start_time": "2019-06-11T09:30:13.428908Z"
    },
    "scrolled": true
   },
   "outputs": [
    {
     "name": "stdout",
     "output_type": "stream",
     "text": [
      "(512, 512, 1) (35, 37, 1)\n"
     ]
    },
    {
     "data": {
      "text/plain": "<Figure size 1296x864 with 6 Axes>",
      "image/png": "[encoded data removed]"
     },
     "metadata": {
      "needs_background": "light"
     },
     "output_type": "display_data"
    }
   ],
   "source": [
    "train_gen = zip(x_train, y_train)\n",
    "\n",
    "sample_batch = next(train_gen)\n",
    "xx, yy = sample_batch\n",
    "print(xx.shape, yy.shape)\n",
    "from keras_unet.utils import plot_imgs\n",
    "\n",
    "plot_imgs(org_imgs=xx, mask_imgs=yy, nm_img_to_plot=2, figsize=6)"
   ]
  },
  {
   "cell_type": "markdown",
   "metadata": {},
   "source": [
    "## Initialize network"
   ]
  },
  {
   "cell_type": "code",
   "execution_count": 15,
   "metadata": {
    "ExecuteTime": {
     "end_time": "2019-06-11T09:30:14.510235Z",
     "start_time": "2019-06-11T09:30:14.197910Z"
    }
   },
   "outputs": [],
   "source": [
    "# from keras_unet.models import custom_unet\n",
    "#\n",
    "input_shape = x_train[0].shape\n",
    "#\n",
    "# model = custom_unet(\n",
    "#     input_shape,\n",
    "#     upsample_mode=\"deconv\",  # 'deconv' or 'simple'\n",
    "#     use_batch_norm=False,\n",
    "#     num_classes=1,\n",
    "#     filters=64,\n",
    "#     dropout=0.2,\n",
    "#     output_activation='relu'\n",
    "# )"
   ]
  },
  {
   "cell_type": "code",
   "execution_count": 16,
   "outputs": [],
   "source": [
    "#model.summary()"
   ],
   "metadata": {
    "collapsed": false,
    "pycharm": {
     "name": "#%%\n"
    }
   }
  },
  {
   "cell_type": "code",
   "execution_count": 17,
   "outputs": [
    {
     "name": "stdout",
     "output_type": "stream",
     "text": [
      "(512, 512, 1)\n"
     ]
    }
   ],
   "source": [
    "# currentdir = os.path.dirname(os.path.abspath(inspect.getfile(inspect.currentframe())))\n",
    "# parentdir = os.path.dirname(currentdir)\n",
    "# sys.path.insert(0, parentdir)\n",
    "\n",
    "#from models_graph import *\n",
    "from models_graph.custom_graph_head import custom_graph_head, custom_adj_unet\n",
    "\n",
    "print(input_shape)\n",
    "model = custom_adj_unet(input_size = input_shape, pretrained_weights =None)\n"
   ],
   "metadata": {
    "collapsed": false,
    "pycharm": {
     "name": "#%%\n"
    }
   }
  },
  {
   "cell_type": "code",
   "execution_count": 18,
   "outputs": [
    {
     "name": "stdout",
     "output_type": "stream",
     "text": [
      "Model: \"model\"\n",
      "__________________________________________________________________________________________________\n",
      "Layer (type)                    Output Shape         Param #     Connected to                     \n",
      "==================================================================================================\n",
      "input_1 (InputLayer)            [(None, 512, 512, 1) 0                                            \n",
      "__________________________________________________________________________________________________\n",
      "conv2d (Conv2D)                 (None, 512, 512, 64) 640         input_1[0][0]                    \n",
      "__________________________________________________________________________________________________\n",
      "conv2d_1 (Conv2D)               (None, 512, 512, 64) 36928       conv2d[0][0]                     \n",
      "__________________________________________________________________________________________________\n",
      "max_pooling2d (MaxPooling2D)    (None, 256, 256, 64) 0           conv2d_1[0][0]                   \n",
      "__________________________________________________________________________________________________\n",
      "conv2d_2 (Conv2D)               (None, 256, 256, 128 73856       max_pooling2d[0][0]              \n",
      "__________________________________________________________________________________________________\n",
      "conv2d_3 (Conv2D)               (None, 256, 256, 128 147584      conv2d_2[0][0]                   \n",
      "__________________________________________________________________________________________________\n",
      "max_pooling2d_1 (MaxPooling2D)  (None, 128, 128, 128 0           conv2d_3[0][0]                   \n",
      "__________________________________________________________________________________________________\n",
      "conv2d_4 (Conv2D)               (None, 128, 128, 256 295168      max_pooling2d_1[0][0]            \n",
      "__________________________________________________________________________________________________\n",
      "conv2d_5 (Conv2D)               (None, 128, 128, 256 590080      conv2d_4[0][0]                   \n",
      "__________________________________________________________________________________________________\n",
      "max_pooling2d_2 (MaxPooling2D)  (None, 64, 64, 256)  0           conv2d_5[0][0]                   \n",
      "__________________________________________________________________________________________________\n",
      "conv2d_6 (Conv2D)               (None, 64, 64, 512)  1180160     max_pooling2d_2[0][0]            \n",
      "__________________________________________________________________________________________________\n",
      "conv2d_7 (Conv2D)               (None, 64, 64, 512)  2359808     conv2d_6[0][0]                   \n",
      "__________________________________________________________________________________________________\n",
      "dropout (Dropout)               (None, 64, 64, 512)  0           conv2d_7[0][0]                   \n",
      "__________________________________________________________________________________________________\n",
      "max_pooling2d_3 (MaxPooling2D)  (None, 32, 32, 512)  0           dropout[0][0]                    \n",
      "__________________________________________________________________________________________________\n",
      "conv2d_8 (Conv2D)               (None, 32, 32, 1024) 4719616     max_pooling2d_3[0][0]            \n",
      "__________________________________________________________________________________________________\n",
      "conv2d_9 (Conv2D)               (None, 32, 32, 1024) 9438208     conv2d_8[0][0]                   \n",
      "__________________________________________________________________________________________________\n",
      "dropout_1 (Dropout)             (None, 32, 32, 1024) 0           conv2d_9[0][0]                   \n",
      "__________________________________________________________________________________________________\n",
      "up_sampling2d (UpSampling2D)    (None, 64, 64, 1024) 0           dropout_1[0][0]                  \n",
      "__________________________________________________________________________________________________\n",
      "conv2d_10 (Conv2D)              (None, 64, 64, 512)  2097664     up_sampling2d[0][0]              \n",
      "__________________________________________________________________________________________________\n",
      "concatenate (Concatenate)       (None, 64, 64, 1024) 0           dropout[0][0]                    \n",
      "                                                                 conv2d_10[0][0]                  \n",
      "__________________________________________________________________________________________________\n",
      "conv2d_11 (Conv2D)              (None, 64, 64, 512)  4719104     concatenate[0][0]                \n",
      "__________________________________________________________________________________________________\n",
      "conv2d_12 (Conv2D)              (None, 64, 64, 512)  2359808     conv2d_11[0][0]                  \n",
      "__________________________________________________________________________________________________\n",
      "up_sampling2d_1 (UpSampling2D)  (None, 128, 128, 512 0           conv2d_12[0][0]                  \n",
      "__________________________________________________________________________________________________\n",
      "conv2d_13 (Conv2D)              (None, 128, 128, 256 524544      up_sampling2d_1[0][0]            \n",
      "__________________________________________________________________________________________________\n",
      "concatenate_1 (Concatenate)     (None, 128, 128, 512 0           conv2d_5[0][0]                   \n",
      "                                                                 conv2d_13[0][0]                  \n",
      "__________________________________________________________________________________________________\n",
      "conv2d_14 (Conv2D)              (None, 128, 128, 256 1179904     concatenate_1[0][0]              \n",
      "__________________________________________________________________________________________________\n",
      "conv2d_15 (Conv2D)              (None, 128, 128, 256 590080      conv2d_14[0][0]                  \n",
      "__________________________________________________________________________________________________\n",
      "up_sampling2d_2 (UpSampling2D)  (None, 256, 256, 256 0           conv2d_15[0][0]                  \n",
      "__________________________________________________________________________________________________\n",
      "conv2d_16 (Conv2D)              (None, 256, 256, 128 131200      up_sampling2d_2[0][0]            \n",
      "__________________________________________________________________________________________________\n",
      "concatenate_2 (Concatenate)     (None, 256, 256, 256 0           conv2d_3[0][0]                   \n",
      "                                                                 conv2d_16[0][0]                  \n",
      "__________________________________________________________________________________________________\n",
      "conv2d_17 (Conv2D)              (None, 256, 256, 128 295040      concatenate_2[0][0]              \n",
      "__________________________________________________________________________________________________\n",
      "conv2d_18 (Conv2D)              (None, 256, 256, 128 147584      conv2d_17[0][0]                  \n",
      "__________________________________________________________________________________________________\n",
      "up_sampling2d_3 (UpSampling2D)  (None, 512, 512, 128 0           conv2d_18[0][0]                  \n",
      "__________________________________________________________________________________________________\n",
      "conv2d_19 (Conv2D)              (None, 512, 512, 64) 32832       up_sampling2d_3[0][0]            \n",
      "__________________________________________________________________________________________________\n",
      "concatenate_3 (Concatenate)     (None, 512, 512, 128 0           conv2d_1[0][0]                   \n",
      "                                                                 conv2d_19[0][0]                  \n",
      "__________________________________________________________________________________________________\n",
      "conv2d_20 (Conv2D)              (None, 512, 512, 64) 73792       concatenate_3[0][0]              \n",
      "__________________________________________________________________________________________________\n",
      "max_pooling2d_4 (MaxPooling2D)  (None, 102, 102, 64) 0           conv2d_20[0][0]                  \n",
      "__________________________________________________________________________________________________\n",
      "dropout_2 (Dropout)             (None, 102, 102, 64) 0           max_pooling2d_4[0][0]            \n",
      "__________________________________________________________________________________________________\n",
      "conv2d_21 (Conv2D)              (None, 102, 102, 80) 46160       dropout_2[0][0]                  \n",
      "__________________________________________________________________________________________________\n",
      "max_pooling2d_5 (MaxPooling2D)  (None, 25, 25, 80)   0           conv2d_21[0][0]                  \n",
      "__________________________________________________________________________________________________\n",
      "conv2d_22 (Conv2D)              (None, 25, 25, 1)    1281        max_pooling2d_5[0][0]            \n",
      "__________________________________________________________________________________________________\n",
      "flatten (Flatten)               (None, 625)          0           conv2d_22[0][0]                  \n",
      "__________________________________________________________________________________________________\n",
      "dense (Dense)                   (None, 512)          320512      flatten[0][0]                    \n",
      "__________________________________________________________________________________________________\n",
      "tf.stack (TFOpLambda)           (None, 512, 512)     0           dense[0][0]                      \n",
      "                                                                 dense[0][0]                      \n",
      "                                                                 dense[0][0]                      \n",
      "                                                                 dense[0][0]                      \n",
      "                                                                 dense[0][0]                      \n",
      "                                                                 dense[0][0]                      \n",
      "                                                                 dense[0][0]                      \n",
      "                                                                 dense[0][0]                      \n",
      "                                                                 dense[0][0]                      \n",
      "                                                                 dense[0][0]                      \n",
      "                                                                 dense[0][0]                      \n",
      "                                                                 dense[0][0]                      \n",
      "                                                                 dense[0][0]                      \n",
      "                                                                 dense[0][0]                      \n",
      "                                                                 dense[0][0]                      \n",
      "                                                                 dense[0][0]                      \n",
      "                                                                 dense[0][0]                      \n",
      "                                                                 dense[0][0]                      \n",
      "                                                                 dense[0][0]                      \n",
      "                                                                 dense[0][0]                      \n",
      "                                                                 dense[0][0]                      \n",
      "                                                                 dense[0][0]                      \n",
      "                                                                 dense[0][0]                      \n",
      "                                                                 dense[0][0]                      \n",
      "                                                                 dense[0][0]                      \n",
      "                                                                 dense[0][0]                      \n",
      "                                                                 dense[0][0]                      \n",
      "                                                                 dense[0][0]                      \n",
      "                                                                 dense[0][0]                      \n",
      "                                                                 dense[0][0]                      \n",
      "                                                                 dense[0][0]                      \n",
      "                                                                 dense[0][0]                      \n",
      "                                                                 dense[0][0]                      \n",
      "                                                                 dense[0][0]                      \n",
      "                                                                 dense[0][0]                      \n",
      "                                                                 dense[0][0]                      \n",
      "                                                                 dense[0][0]                      \n",
      "                                                                 dense[0][0]                      \n",
      "                                                                 dense[0][0]                      \n",
      "                                                                 dense[0][0]                      \n",
      "                                                                 dense[0][0]                      \n",
      "                                                                 dense[0][0]                      \n",
      "                                                                 dense[0][0]                      \n",
      "                                                                 dense[0][0]                      \n",
      "                                                                 dense[0][0]                      \n",
      "                                                                 dense[0][0]                      \n",
      "                                                                 dense[0][0]                      \n",
      "                                                                 dense[0][0]                      \n",
      "                                                                 dense[0][0]                      \n",
      "                                                                 dense[0][0]                      \n",
      "                                                                 dense[0][0]                      \n",
      "                                                                 dense[0][0]                      \n",
      "                                                                 dense[0][0]                      \n",
      "                                                                 dense[0][0]                      \n",
      "                                                                 dense[0][0]                      \n",
      "                                                                 dense[0][0]                      \n",
      "                                                                 dense[0][0]                      \n",
      "                                                                 dense[0][0]                      \n",
      "                                                                 dense[0][0]                      \n",
      "                                                                 dense[0][0]                      \n",
      "                                                                 dense[0][0]                      \n",
      "                                                                 dense[0][0]                      \n",
      "                                                                 dense[0][0]                      \n",
      "                                                                 dense[0][0]                      \n",
      "                                                                 dense[0][0]                      \n",
      "                                                                 dense[0][0]                      \n",
      "                                                                 dense[0][0]                      \n",
      "                                                                 dense[0][0]                      \n",
      "                                                                 dense[0][0]                      \n",
      "                                                                 dense[0][0]                      \n",
      "                                                                 dense[0][0]                      \n",
      "                                                                 dense[0][0]                      \n",
      "                                                                 dense[0][0]                      \n",
      "                                                                 dense[0][0]                      \n",
      "                                                                 dense[0][0]                      \n",
      "                                                                 dense[0][0]                      \n",
      "                                                                 dense[0][0]                      \n",
      "                                                                 dense[0][0]                      \n",
      "                                                                 dense[0][0]                      \n",
      "                                                                 dense[0][0]                      \n",
      "                                                                 dense[0][0]                      \n",
      "                                                                 dense[0][0]                      \n",
      "                                                                 dense[0][0]                      \n",
      "                                                                 dense[0][0]                      \n",
      "                                                                 dense[0][0]                      \n",
      "                                                                 dense[0][0]                      \n",
      "                                                                 dense[0][0]                      \n",
      "                                                                 dense[0][0]                      \n",
      "                                                                 dense[0][0]                      \n",
      "                                                                 dense[0][0]                      \n",
      "                                                                 dense[0][0]                      \n",
      "                                                                 dense[0][0]                      \n",
      "                                                                 dense[0][0]                      \n",
      "                                                                 dense[0][0]                      \n",
      "                                                                 dense[0][0]                      \n",
      "                                                                 dense[0][0]                      \n",
      "                                                                 dense[0][0]                      \n",
      "                                                                 dense[0][0]                      \n",
      "                                                                 dense[0][0]                      \n",
      "                                                                 dense[0][0]                      \n",
      "                                                                 dense[0][0]                      \n",
      "                                                                 dense[0][0]                      \n",
      "                                                                 dense[0][0]                      \n",
      "                                                                 dense[0][0]                      \n",
      "                                                                 dense[0][0]                      \n",
      "                                                                 dense[0][0]                      \n",
      "                                                                 dense[0][0]                      \n",
      "                                                                 dense[0][0]                      \n",
      "                                                                 dense[0][0]                      \n",
      "                                                                 dense[0][0]                      \n",
      "                                                                 dense[0][0]                      \n",
      "                                                                 dense[0][0]                      \n",
      "                                                                 dense[0][0]                      \n",
      "                                                                 dense[0][0]                      \n",
      "                                                                 dense[0][0]                      \n",
      "                                                                 dense[0][0]                      \n",
      "                                                                 dense[0][0]                      \n",
      "                                                                 dense[0][0]                      \n",
      "                                                                 dense[0][0]                      \n",
      "                                                                 dense[0][0]                      \n",
      "                                                                 dense[0][0]                      \n",
      "                                                                 dense[0][0]                      \n",
      "                                                                 dense[0][0]                      \n",
      "                                                                 dense[0][0]                      \n",
      "                                                                 dense[0][0]                      \n",
      "                                                                 dense[0][0]                      \n",
      "                                                                 dense[0][0]                      \n",
      "                                                                 dense[0][0]                      \n",
      "                                                                 dense[0][0]                      \n",
      "                                                                 dense[0][0]                      \n",
      "                                                                 dense[0][0]                      \n",
      "                                                                 dense[0][0]                      \n",
      "                                                                 dense[0][0]                      \n",
      "                                                                 dense[0][0]                      \n",
      "                                                                 dense[0][0]                      \n",
      "                                                                 dense[0][0]                      \n",
      "                                                                 dense[0][0]                      \n",
      "                                                                 dense[0][0]                      \n",
      "                                                                 dense[0][0]                      \n",
      "                                                                 dense[0][0]                      \n",
      "                                                                 dense[0][0]                      \n",
      "                                                                 dense[0][0]                      \n",
      "                                                                 dense[0][0]                      \n",
      "                                                                 dense[0][0]                      \n",
      "                                                                 dense[0][0]                      \n",
      "                                                                 dense[0][0]                      \n",
      "                                                                 dense[0][0]                      \n",
      "                                                                 dense[0][0]                      \n",
      "                                                                 dense[0][0]                      \n",
      "                                                                 dense[0][0]                      \n",
      "                                                                 dense[0][0]                      \n",
      "                                                                 dense[0][0]                      \n",
      "                                                                 dense[0][0]                      \n",
      "                                                                 dense[0][0]                      \n",
      "                                                                 dense[0][0]                      \n",
      "                                                                 dense[0][0]                      \n",
      "                                                                 dense[0][0]                      \n",
      "                                                                 dense[0][0]                      \n",
      "                                                                 dense[0][0]                      \n",
      "                                                                 dense[0][0]                      \n",
      "                                                                 dense[0][0]                      \n",
      "                                                                 dense[0][0]                      \n",
      "                                                                 dense[0][0]                      \n",
      "                                                                 dense[0][0]                      \n",
      "                                                                 dense[0][0]                      \n",
      "                                                                 dense[0][0]                      \n",
      "                                                                 dense[0][0]                      \n",
      "                                                                 dense[0][0]                      \n",
      "                                                                 dense[0][0]                      \n",
      "                                                                 dense[0][0]                      \n",
      "                                                                 dense[0][0]                      \n",
      "                                                                 dense[0][0]                      \n",
      "                                                                 dense[0][0]                      \n",
      "                                                                 dense[0][0]                      \n",
      "                                                                 dense[0][0]                      \n",
      "                                                                 dense[0][0]                      \n",
      "                                                                 dense[0][0]                      \n",
      "                                                                 dense[0][0]                      \n",
      "                                                                 dense[0][0]                      \n",
      "                                                                 dense[0][0]                      \n",
      "                                                                 dense[0][0]                      \n",
      "                                                                 dense[0][0]                      \n",
      "                                                                 dense[0][0]                      \n",
      "                                                                 dense[0][0]                      \n",
      "                                                                 dense[0][0]                      \n",
      "                                                                 dense[0][0]                      \n",
      "                                                                 dense[0][0]                      \n",
      "                                                                 dense[0][0]                      \n",
      "                                                                 dense[0][0]                      \n",
      "                                                                 dense[0][0]                      \n",
      "                                                                 dense[0][0]                      \n",
      "                                                                 dense[0][0]                      \n",
      "                                                                 dense[0][0]                      \n",
      "                                                                 dense[0][0]                      \n",
      "                                                                 dense[0][0]                      \n",
      "                                                                 dense[0][0]                      \n",
      "                                                                 dense[0][0]                      \n",
      "                                                                 dense[0][0]                      \n",
      "                                                                 dense[0][0]                      \n",
      "                                                                 dense[0][0]                      \n",
      "                                                                 dense[0][0]                      \n",
      "                                                                 dense[0][0]                      \n",
      "                                                                 dense[0][0]                      \n",
      "                                                                 dense[0][0]                      \n",
      "                                                                 dense[0][0]                      \n",
      "                                                                 dense[0][0]                      \n",
      "                                                                 dense[0][0]                      \n",
      "                                                                 dense[0][0]                      \n",
      "                                                                 dense[0][0]                      \n",
      "                                                                 dense[0][0]                      \n",
      "                                                                 dense[0][0]                      \n",
      "                                                                 dense[0][0]                      \n",
      "                                                                 dense[0][0]                      \n",
      "                                                                 dense[0][0]                      \n",
      "                                                                 dense[0][0]                      \n",
      "                                                                 dense[0][0]                      \n",
      "                                                                 dense[0][0]                      \n",
      "                                                                 dense[0][0]                      \n",
      "                                                                 dense[0][0]                      \n",
      "                                                                 dense[0][0]                      \n",
      "                                                                 dense[0][0]                      \n",
      "                                                                 dense[0][0]                      \n",
      "                                                                 dense[0][0]                      \n",
      "                                                                 dense[0][0]                      \n",
      "                                                                 dense[0][0]                      \n",
      "                                                                 dense[0][0]                      \n",
      "                                                                 dense[0][0]                      \n",
      "                                                                 dense[0][0]                      \n",
      "                                                                 dense[0][0]                      \n",
      "                                                                 dense[0][0]                      \n",
      "                                                                 dense[0][0]                      \n",
      "                                                                 dense[0][0]                      \n",
      "                                                                 dense[0][0]                      \n",
      "                                                                 dense[0][0]                      \n",
      "                                                                 dense[0][0]                      \n",
      "                                                                 dense[0][0]                      \n",
      "                                                                 dense[0][0]                      \n",
      "                                                                 dense[0][0]                      \n",
      "                                                                 dense[0][0]                      \n",
      "                                                                 dense[0][0]                      \n",
      "                                                                 dense[0][0]                      \n",
      "                                                                 dense[0][0]                      \n",
      "                                                                 dense[0][0]                      \n",
      "                                                                 dense[0][0]                      \n",
      "                                                                 dense[0][0]                      \n",
      "                                                                 dense[0][0]                      \n",
      "                                                                 dense[0][0]                      \n",
      "                                                                 dense[0][0]                      \n",
      "                                                                 dense[0][0]                      \n",
      "                                                                 dense[0][0]                      \n",
      "                                                                 dense[0][0]                      \n",
      "                                                                 dense[0][0]                      \n",
      "                                                                 dense[0][0]                      \n",
      "                                                                 dense[0][0]                      \n",
      "                                                                 dense[0][0]                      \n",
      "                                                                 dense[0][0]                      \n",
      "                                                                 dense[0][0]                      \n",
      "                                                                 dense[0][0]                      \n",
      "                                                                 dense[0][0]                      \n",
      "                                                                 dense[0][0]                      \n",
      "                                                                 dense[0][0]                      \n",
      "                                                                 dense[0][0]                      \n",
      "                                                                 dense[0][0]                      \n",
      "                                                                 dense[0][0]                      \n",
      "                                                                 dense[0][0]                      \n",
      "                                                                 dense[0][0]                      \n",
      "                                                                 dense[0][0]                      \n",
      "                                                                 dense[0][0]                      \n",
      "                                                                 dense[0][0]                      \n",
      "                                                                 dense[0][0]                      \n",
      "                                                                 dense[0][0]                      \n",
      "                                                                 dense[0][0]                      \n",
      "                                                                 dense[0][0]                      \n",
      "                                                                 dense[0][0]                      \n",
      "                                                                 dense[0][0]                      \n",
      "                                                                 dense[0][0]                      \n",
      "                                                                 dense[0][0]                      \n",
      "                                                                 dense[0][0]                      \n",
      "                                                                 dense[0][0]                      \n",
      "                                                                 dense[0][0]                      \n",
      "                                                                 dense[0][0]                      \n",
      "                                                                 dense[0][0]                      \n",
      "                                                                 dense[0][0]                      \n",
      "                                                                 dense[0][0]                      \n",
      "                                                                 dense[0][0]                      \n",
      "                                                                 dense[0][0]                      \n",
      "                                                                 dense[0][0]                      \n",
      "                                                                 dense[0][0]                      \n",
      "                                                                 dense[0][0]                      \n",
      "                                                                 dense[0][0]                      \n",
      "                                                                 dense[0][0]                      \n",
      "                                                                 dense[0][0]                      \n",
      "                                                                 dense[0][0]                      \n",
      "                                                                 dense[0][0]                      \n",
      "                                                                 dense[0][0]                      \n",
      "                                                                 dense[0][0]                      \n",
      "                                                                 dense[0][0]                      \n",
      "                                                                 dense[0][0]                      \n",
      "                                                                 dense[0][0]                      \n",
      "                                                                 dense[0][0]                      \n",
      "                                                                 dense[0][0]                      \n",
      "                                                                 dense[0][0]                      \n",
      "                                                                 dense[0][0]                      \n",
      "                                                                 dense[0][0]                      \n",
      "                                                                 dense[0][0]                      \n",
      "                                                                 dense[0][0]                      \n",
      "                                                                 dense[0][0]                      \n",
      "                                                                 dense[0][0]                      \n",
      "                                                                 dense[0][0]                      \n",
      "                                                                 dense[0][0]                      \n",
      "                                                                 dense[0][0]                      \n",
      "                                                                 dense[0][0]                      \n",
      "                                                                 dense[0][0]                      \n",
      "                                                                 dense[0][0]                      \n",
      "                                                                 dense[0][0]                      \n",
      "                                                                 dense[0][0]                      \n",
      "                                                                 dense[0][0]                      \n",
      "                                                                 dense[0][0]                      \n",
      "                                                                 dense[0][0]                      \n",
      "                                                                 dense[0][0]                      \n",
      "                                                                 dense[0][0]                      \n",
      "                                                                 dense[0][0]                      \n",
      "                                                                 dense[0][0]                      \n",
      "                                                                 dense[0][0]                      \n",
      "                                                                 dense[0][0]                      \n",
      "                                                                 dense[0][0]                      \n",
      "                                                                 dense[0][0]                      \n",
      "                                                                 dense[0][0]                      \n",
      "                                                                 dense[0][0]                      \n",
      "                                                                 dense[0][0]                      \n",
      "                                                                 dense[0][0]                      \n",
      "                                                                 dense[0][0]                      \n",
      "                                                                 dense[0][0]                      \n",
      "                                                                 dense[0][0]                      \n",
      "                                                                 dense[0][0]                      \n",
      "                                                                 dense[0][0]                      \n",
      "                                                                 dense[0][0]                      \n",
      "                                                                 dense[0][0]                      \n",
      "                                                                 dense[0][0]                      \n",
      "                                                                 dense[0][0]                      \n",
      "                                                                 dense[0][0]                      \n",
      "                                                                 dense[0][0]                      \n",
      "                                                                 dense[0][0]                      \n",
      "                                                                 dense[0][0]                      \n",
      "                                                                 dense[0][0]                      \n",
      "                                                                 dense[0][0]                      \n",
      "                                                                 dense[0][0]                      \n",
      "                                                                 dense[0][0]                      \n",
      "                                                                 dense[0][0]                      \n",
      "                                                                 dense[0][0]                      \n",
      "                                                                 dense[0][0]                      \n",
      "                                                                 dense[0][0]                      \n",
      "                                                                 dense[0][0]                      \n",
      "                                                                 dense[0][0]                      \n",
      "                                                                 dense[0][0]                      \n",
      "                                                                 dense[0][0]                      \n",
      "                                                                 dense[0][0]                      \n",
      "                                                                 dense[0][0]                      \n",
      "                                                                 dense[0][0]                      \n",
      "                                                                 dense[0][0]                      \n",
      "                                                                 dense[0][0]                      \n",
      "                                                                 dense[0][0]                      \n",
      "                                                                 dense[0][0]                      \n",
      "                                                                 dense[0][0]                      \n",
      "                                                                 dense[0][0]                      \n",
      "                                                                 dense[0][0]                      \n",
      "                                                                 dense[0][0]                      \n",
      "                                                                 dense[0][0]                      \n",
      "                                                                 dense[0][0]                      \n",
      "                                                                 dense[0][0]                      \n",
      "                                                                 dense[0][0]                      \n",
      "                                                                 dense[0][0]                      \n",
      "                                                                 dense[0][0]                      \n",
      "                                                                 dense[0][0]                      \n",
      "                                                                 dense[0][0]                      \n",
      "                                                                 dense[0][0]                      \n",
      "                                                                 dense[0][0]                      \n",
      "                                                                 dense[0][0]                      \n",
      "                                                                 dense[0][0]                      \n",
      "                                                                 dense[0][0]                      \n",
      "                                                                 dense[0][0]                      \n",
      "                                                                 dense[0][0]                      \n",
      "                                                                 dense[0][0]                      \n",
      "                                                                 dense[0][0]                      \n",
      "                                                                 dense[0][0]                      \n",
      "                                                                 dense[0][0]                      \n",
      "                                                                 dense[0][0]                      \n",
      "                                                                 dense[0][0]                      \n",
      "                                                                 dense[0][0]                      \n",
      "                                                                 dense[0][0]                      \n",
      "                                                                 dense[0][0]                      \n",
      "                                                                 dense[0][0]                      \n",
      "                                                                 dense[0][0]                      \n",
      "                                                                 dense[0][0]                      \n",
      "                                                                 dense[0][0]                      \n",
      "                                                                 dense[0][0]                      \n",
      "                                                                 dense[0][0]                      \n",
      "                                                                 dense[0][0]                      \n",
      "                                                                 dense[0][0]                      \n",
      "                                                                 dense[0][0]                      \n",
      "                                                                 dense[0][0]                      \n",
      "                                                                 dense[0][0]                      \n",
      "                                                                 dense[0][0]                      \n",
      "                                                                 dense[0][0]                      \n",
      "                                                                 dense[0][0]                      \n",
      "                                                                 dense[0][0]                      \n",
      "                                                                 dense[0][0]                      \n",
      "                                                                 dense[0][0]                      \n",
      "                                                                 dense[0][0]                      \n",
      "                                                                 dense[0][0]                      \n",
      "                                                                 dense[0][0]                      \n",
      "                                                                 dense[0][0]                      \n",
      "                                                                 dense[0][0]                      \n",
      "                                                                 dense[0][0]                      \n",
      "                                                                 dense[0][0]                      \n",
      "                                                                 dense[0][0]                      \n",
      "                                                                 dense[0][0]                      \n",
      "                                                                 dense[0][0]                      \n",
      "                                                                 dense[0][0]                      \n",
      "                                                                 dense[0][0]                      \n",
      "                                                                 dense[0][0]                      \n",
      "                                                                 dense[0][0]                      \n",
      "                                                                 dense[0][0]                      \n",
      "                                                                 dense[0][0]                      \n",
      "                                                                 dense[0][0]                      \n",
      "                                                                 dense[0][0]                      \n",
      "                                                                 dense[0][0]                      \n",
      "                                                                 dense[0][0]                      \n",
      "                                                                 dense[0][0]                      \n",
      "                                                                 dense[0][0]                      \n",
      "                                                                 dense[0][0]                      \n",
      "                                                                 dense[0][0]                      \n",
      "                                                                 dense[0][0]                      \n",
      "                                                                 dense[0][0]                      \n",
      "                                                                 dense[0][0]                      \n",
      "                                                                 dense[0][0]                      \n",
      "                                                                 dense[0][0]                      \n",
      "                                                                 dense[0][0]                      \n",
      "                                                                 dense[0][0]                      \n",
      "                                                                 dense[0][0]                      \n",
      "                                                                 dense[0][0]                      \n",
      "                                                                 dense[0][0]                      \n",
      "                                                                 dense[0][0]                      \n",
      "                                                                 dense[0][0]                      \n",
      "                                                                 dense[0][0]                      \n",
      "                                                                 dense[0][0]                      \n",
      "                                                                 dense[0][0]                      \n",
      "                                                                 dense[0][0]                      \n",
      "                                                                 dense[0][0]                      \n",
      "                                                                 dense[0][0]                      \n",
      "                                                                 dense[0][0]                      \n",
      "                                                                 dense[0][0]                      \n",
      "                                                                 dense[0][0]                      \n",
      "                                                                 dense[0][0]                      \n",
      "                                                                 dense[0][0]                      \n",
      "                                                                 dense[0][0]                      \n",
      "                                                                 dense[0][0]                      \n",
      "                                                                 dense[0][0]                      \n",
      "                                                                 dense[0][0]                      \n",
      "                                                                 dense[0][0]                      \n",
      "                                                                 dense[0][0]                      \n",
      "                                                                 dense[0][0]                      \n",
      "                                                                 dense[0][0]                      \n",
      "                                                                 dense[0][0]                      \n",
      "                                                                 dense[0][0]                      \n",
      "                                                                 dense[0][0]                      \n",
      "                                                                 dense[0][0]                      \n",
      "                                                                 dense[0][0]                      \n",
      "                                                                 dense[0][0]                      \n",
      "                                                                 dense[0][0]                      \n",
      "                                                                 dense[0][0]                      \n",
      "                                                                 dense[0][0]                      \n",
      "                                                                 dense[0][0]                      \n",
      "                                                                 dense[0][0]                      \n",
      "                                                                 dense[0][0]                      \n",
      "                                                                 dense[0][0]                      \n",
      "                                                                 dense[0][0]                      \n",
      "                                                                 dense[0][0]                      \n",
      "                                                                 dense[0][0]                      \n",
      "                                                                 dense[0][0]                      \n",
      "                                                                 dense[0][0]                      \n",
      "                                                                 dense[0][0]                      \n",
      "                                                                 dense[0][0]                      \n",
      "                                                                 dense[0][0]                      \n",
      "                                                                 dense[0][0]                      \n",
      "                                                                 dense[0][0]                      \n",
      "                                                                 dense[0][0]                      \n",
      "                                                                 dense[0][0]                      \n",
      "                                                                 dense[0][0]                      \n",
      "                                                                 dense[0][0]                      \n",
      "                                                                 dense[0][0]                      \n",
      "                                                                 dense[0][0]                      \n",
      "                                                                 dense[0][0]                      \n",
      "                                                                 dense[0][0]                      \n",
      "                                                                 dense[0][0]                      \n",
      "                                                                 dense[0][0]                      \n",
      "                                                                 dense[0][0]                      \n",
      "                                                                 dense[0][0]                      \n",
      "                                                                 dense[0][0]                      \n",
      "                                                                 dense[0][0]                      \n",
      "                                                                 dense[0][0]                      \n",
      "                                                                 dense[0][0]                      \n",
      "                                                                 dense[0][0]                      \n",
      "                                                                 dense[0][0]                      \n",
      "                                                                 dense[0][0]                      \n",
      "                                                                 dense[0][0]                      \n",
      "                                                                 dense[0][0]                      \n",
      "                                                                 dense[0][0]                      \n",
      "                                                                 dense[0][0]                      \n",
      "                                                                 dense[0][0]                      \n",
      "                                                                 dense[0][0]                      \n",
      "                                                                 dense[0][0]                      \n",
      "__________________________________________________________________________________________________\n",
      "tf.expand_dims (TFOpLambda)     (None, 512, 512, 1)  0           tf.stack[0][0]                   \n",
      "__________________________________________________________________________________________________\n",
      "concatenate_4 (Concatenate)     (None, 512, 512, 65) 0           conv2d_20[0][0]                  \n",
      "                                                                 tf.expand_dims[0][0]             \n",
      "__________________________________________________________________________________________________\n",
      "conv2d_23 (Conv2D)              (None, 512, 512, 128 75008       concatenate_4[0][0]              \n",
      "__________________________________________________________________________________________________\n",
      "conv2d_24 (Conv2D)              (None, 512, 512, 125 144125      conv2d_23[0][0]                  \n",
      "__________________________________________________________________________________________________\n",
      "dropout_3 (Dropout)             (None, 512, 512, 125 0           conv2d_24[0][0]                  \n",
      "__________________________________________________________________________________________________\n",
      "max_pooling2d_6 (MaxPooling2D)  (None, 128, 128, 125 0           dropout_3[0][0]                  \n",
      "==================================================================================================\n",
      "Total params: 31,580,686\n",
      "Trainable params: 31,580,686\n",
      "Non-trainable params: 0\n",
      "__________________________________________________________________________________________________\n"
     ]
    }
   ],
   "source": [
    "model.summary()"
   ],
   "metadata": {
    "collapsed": false,
    "pycharm": {
     "name": "#%%\n"
    }
   }
  },
  {
   "cell_type": "code",
   "execution_count": 19,
   "metadata": {
    "ExecuteTime": {
     "end_time": "2019-06-11T09:30:14.534938Z",
     "start_time": "2019-06-11T09:30:14.522910Z"
    }
   },
   "outputs": [],
   "source": [
    "import os\n",
    "os.environ[\"PATH\"] += os.pathsep + \"C:\\\\Program Files\\\\Graphviz\\\\bin\\\\\""
   ]
  },
  {
   "cell_type": "code",
   "execution_count": 20,
   "metadata": {
    "ExecuteTime": {
     "end_time": "2019-04-25T13:45:03.944456Z",
     "start_time": "2019-04-25T13:44:39.666Z"
    },
    "scrolled": true
   },
   "outputs": [
    {
     "name": "stdout",
     "output_type": "stream",
     "text": [
      "['D:\\\\Documents\\\\Studium\\\\Studienarbeit\\\\keras-unet\\\\notebooks', 'D:\\\\Documents\\\\Studium\\\\Studienarbeit\\\\keras-unet', 'C:\\\\Users\\\\Regine\\\\AppData\\\\Local\\\\Programs\\\\Python\\\\Python39', 'C:\\\\Users\\\\Regine\\\\AppData\\\\Local\\\\Programs\\\\Python\\\\Python36', 'c:\\\\users\\\\regine\\\\appdata\\\\local\\\\programs\\\\python\\\\python39\\\\python39.zip', 'c:\\\\users\\\\regine\\\\appdata\\\\local\\\\programs\\\\python\\\\python39\\\\DLLs', 'c:\\\\users\\\\regine\\\\appdata\\\\local\\\\programs\\\\python\\\\python39\\\\lib', '', 'C:\\\\Users\\\\Regine\\\\AppData\\\\Roaming\\\\Python\\\\Python39\\\\site-packages', '\\\\\\\\isys-cifs.tik.uni-stuttgart.de\\\\isys_shared\\\\studenten\\\\rausch\\\\06_studienarbeit\\\\02_buildgraph\\\\retipy-python\\\\retipy', 'C:\\\\Users\\\\Regine\\\\AppData\\\\Roaming\\\\Python\\\\Python39\\\\site-packages\\\\win32', 'C:\\\\Users\\\\Regine\\\\AppData\\\\Roaming\\\\Python\\\\Python39\\\\site-packages\\\\win32\\\\lib', 'C:\\\\Users\\\\Regine\\\\AppData\\\\Roaming\\\\Python\\\\Python39\\\\site-packages\\\\Pythonwin', 'c:\\\\users\\\\regine\\\\appdata\\\\local\\\\programs\\\\python\\\\python39\\\\lib\\\\site-packages', 'C:\\\\Users\\\\Regine\\\\AppData\\\\Roaming\\\\Python\\\\Python39\\\\site-packages\\\\IPython\\\\extensions', 'C:\\\\Users\\\\Regine\\\\.ipython']\n",
      "['D:\\\\Documents\\\\Studium\\\\Studienarbeit\\\\keras-unet\\\\notebooks', 'D:\\\\Documents\\\\Studium\\\\Studienarbeit\\\\keras-unet', 'C:\\\\Users\\\\Regine\\\\AppData\\\\Local\\\\Programs\\\\Python\\\\Python39', 'C:\\\\Users\\\\Regine\\\\AppData\\\\Local\\\\Programs\\\\Python\\\\Python36', 'c:\\\\users\\\\regine\\\\appdata\\\\local\\\\programs\\\\python\\\\python39\\\\python39.zip', 'c:\\\\users\\\\regine\\\\appdata\\\\local\\\\programs\\\\python\\\\python39\\\\DLLs', 'c:\\\\users\\\\regine\\\\appdata\\\\local\\\\programs\\\\python\\\\python39\\\\lib', '', 'C:\\\\Users\\\\Regine\\\\AppData\\\\Roaming\\\\Python\\\\Python39\\\\site-packages', '\\\\\\\\isys-cifs.tik.uni-stuttgart.de\\\\isys_shared\\\\studenten\\\\rausch\\\\06_studienarbeit\\\\02_buildgraph\\\\retipy-python\\\\retipy', 'C:\\\\Users\\\\Regine\\\\AppData\\\\Roaming\\\\Python\\\\Python39\\\\site-packages\\\\win32', 'C:\\\\Users\\\\Regine\\\\AppData\\\\Roaming\\\\Python\\\\Python39\\\\site-packages\\\\win32\\\\lib', 'C:\\\\Users\\\\Regine\\\\AppData\\\\Roaming\\\\Python\\\\Python39\\\\site-packages\\\\Pythonwin', 'c:\\\\users\\\\regine\\\\appdata\\\\local\\\\programs\\\\python\\\\python39\\\\lib\\\\site-packages', 'C:\\\\Users\\\\Regine\\\\AppData\\\\Roaming\\\\Python\\\\Python39\\\\site-packages\\\\IPython\\\\extensions', 'C:\\\\Users\\\\Regine\\\\.ipython', 'C:\\\\Program Files\\\\Graphviz\\\\bin\\\\']\n"
     ]
    }
   ],
   "source": [
    "import sys\n",
    "print(sys.path)\n",
    "\n",
    "sys.path.append(\"C:\\\\Program Files\\\\Graphviz\\\\bin\\\\\")\n",
    "\n",
    "print(sys.path)"
   ]
  },
  {
   "cell_type": "code",
   "execution_count": 21,
   "metadata": {
    "ExecuteTime": {
     "end_time": "2019-04-25T13:45:22.243669Z",
     "start_time": "2019-04-25T13:45:21.528107Z"
    }
   },
   "outputs": [
    {
     "name": "stderr",
     "output_type": "stream",
     "text": [
      "Using TensorFlow backend.\n"
     ]
    },
    {
     "ename": "ImportError",
     "evalue": "cannot import name 'transpose_shape' from 'keras.utils.generic_utils' (c:\\users\\regine\\appdata\\local\\programs\\python\\python39\\lib\\site-packages\\keras\\utils\\generic_utils.py)",
     "output_type": "error",
     "traceback": [
      "\u001B[1;31m---------------------------------------------------------------------------\u001B[0m",
      "\u001B[1;31mImportError\u001B[0m                               Traceback (most recent call last)",
      "\u001B[1;32m<ipython-input-21-8787a5a80d58>\u001B[0m in \u001B[0;36m<module>\u001B[1;34m\u001B[0m\n\u001B[1;32m----> 1\u001B[1;33m \u001B[1;32mfrom\u001B[0m \u001B[0mkeras\u001B[0m\u001B[1;33m.\u001B[0m\u001B[0mutils\u001B[0m \u001B[1;32mimport\u001B[0m \u001B[0mplot_model\u001B[0m\u001B[1;33m\u001B[0m\u001B[1;33m\u001B[0m\u001B[0m\n\u001B[0m\u001B[0;32m      2\u001B[0m \u001B[0mplot_model\u001B[0m\u001B[1;33m(\u001B[0m\u001B[0mmodel\u001B[0m\u001B[1;33m,\u001B[0m \u001B[0mto_file\u001B[0m\u001B[1;33m=\u001B[0m\u001B[1;34m'model.png'\u001B[0m\u001B[1;33m)\u001B[0m\u001B[1;33m\u001B[0m\u001B[1;33m\u001B[0m\u001B[0m\n\u001B[0;32m      3\u001B[0m \u001B[1;33m\u001B[0m\u001B[0m\n",
      "\u001B[1;32mc:\\users\\regine\\appdata\\local\\programs\\python\\python39\\lib\\site-packages\\keras\\__init__.py\u001B[0m in \u001B[0;36m<module>\u001B[1;34m\u001B[0m\n\u001B[0;32m     23\u001B[0m \u001B[1;33m\u001B[0m\u001B[0m\n\u001B[0;32m     24\u001B[0m \u001B[1;31m# See b/110718070#comment18 for more details about this import.\u001B[0m\u001B[1;33m\u001B[0m\u001B[1;33m\u001B[0m\u001B[1;33m\u001B[0m\u001B[0m\n\u001B[1;32m---> 25\u001B[1;33m \u001B[1;32mfrom\u001B[0m \u001B[0mkeras\u001B[0m \u001B[1;32mimport\u001B[0m \u001B[0mmodels\u001B[0m\u001B[1;33m\u001B[0m\u001B[1;33m\u001B[0m\u001B[0m\n\u001B[0m\u001B[0;32m     26\u001B[0m \u001B[1;33m\u001B[0m\u001B[0m\n\u001B[0;32m     27\u001B[0m \u001B[1;32mfrom\u001B[0m \u001B[0mkeras\u001B[0m\u001B[1;33m.\u001B[0m\u001B[0mengine\u001B[0m\u001B[1;33m.\u001B[0m\u001B[0minput_layer\u001B[0m \u001B[1;32mimport\u001B[0m \u001B[0mInput\u001B[0m\u001B[1;33m\u001B[0m\u001B[1;33m\u001B[0m\u001B[0m\n",
      "\u001B[1;32mc:\\users\\regine\\appdata\\local\\programs\\python\\python39\\lib\\site-packages\\keras\\models.py\u001B[0m in \u001B[0;36m<module>\u001B[1;34m\u001B[0m\n\u001B[0;32m     17\u001B[0m \u001B[1;33m\u001B[0m\u001B[0m\n\u001B[0;32m     18\u001B[0m \u001B[1;32mimport\u001B[0m \u001B[0mtensorflow\u001B[0m\u001B[1;33m.\u001B[0m\u001B[0mcompat\u001B[0m\u001B[1;33m.\u001B[0m\u001B[0mv2\u001B[0m \u001B[1;32mas\u001B[0m \u001B[0mtf\u001B[0m\u001B[1;33m\u001B[0m\u001B[1;33m\u001B[0m\u001B[0m\n\u001B[1;32m---> 19\u001B[1;33m \u001B[1;32mfrom\u001B[0m \u001B[0mkeras\u001B[0m \u001B[1;32mimport\u001B[0m \u001B[0mbackend\u001B[0m\u001B[1;33m\u001B[0m\u001B[1;33m\u001B[0m\u001B[0m\n\u001B[0m\u001B[0;32m     20\u001B[0m \u001B[1;32mfrom\u001B[0m \u001B[0mkeras\u001B[0m \u001B[1;32mimport\u001B[0m \u001B[0mmetrics\u001B[0m \u001B[1;32mas\u001B[0m \u001B[0mmetrics_module\u001B[0m\u001B[1;33m\u001B[0m\u001B[1;33m\u001B[0m\u001B[0m\n\u001B[0;32m     21\u001B[0m \u001B[1;32mfrom\u001B[0m \u001B[0mkeras\u001B[0m \u001B[1;32mimport\u001B[0m \u001B[0moptimizer_v1\u001B[0m\u001B[1;33m\u001B[0m\u001B[1;33m\u001B[0m\u001B[0m\n",
      "\u001B[1;32mc:\\users\\regine\\appdata\\local\\programs\\python\\python39\\lib\\site-packages\\keras\\backend\\__init__.py\u001B[0m in \u001B[0;36m<module>\u001B[1;34m\u001B[0m\n\u001B[0;32m     87\u001B[0m \u001B[1;32melif\u001B[0m \u001B[0m_BACKEND\u001B[0m \u001B[1;33m==\u001B[0m \u001B[1;34m'tensorflow'\u001B[0m\u001B[1;33m:\u001B[0m\u001B[1;33m\u001B[0m\u001B[1;33m\u001B[0m\u001B[0m\n\u001B[0;32m     88\u001B[0m     \u001B[0msys\u001B[0m\u001B[1;33m.\u001B[0m\u001B[0mstderr\u001B[0m\u001B[1;33m.\u001B[0m\u001B[0mwrite\u001B[0m\u001B[1;33m(\u001B[0m\u001B[1;34m'Using TensorFlow backend.\\n'\u001B[0m\u001B[1;33m)\u001B[0m\u001B[1;33m\u001B[0m\u001B[1;33m\u001B[0m\u001B[0m\n\u001B[1;32m---> 89\u001B[1;33m     \u001B[1;32mfrom\u001B[0m \u001B[1;33m.\u001B[0m\u001B[0mtensorflow_backend\u001B[0m \u001B[1;32mimport\u001B[0m \u001B[1;33m*\u001B[0m\u001B[1;33m\u001B[0m\u001B[1;33m\u001B[0m\u001B[0m\n\u001B[0m\u001B[0;32m     90\u001B[0m \u001B[1;32melse\u001B[0m\u001B[1;33m:\u001B[0m\u001B[1;33m\u001B[0m\u001B[1;33m\u001B[0m\u001B[0m\n\u001B[0;32m     91\u001B[0m     \u001B[1;31m# Try and load external backend.\u001B[0m\u001B[1;33m\u001B[0m\u001B[1;33m\u001B[0m\u001B[1;33m\u001B[0m\u001B[0m\n",
      "\u001B[1;32mc:\\users\\regine\\appdata\\local\\programs\\python\\python39\\lib\\site-packages\\keras\\backend\\tensorflow_backend.py\u001B[0m in \u001B[0;36m<module>\u001B[1;34m\u001B[0m\n\u001B[0;32m     22\u001B[0m \u001B[1;32mfrom\u001B[0m \u001B[1;33m.\u001B[0m\u001B[0mcommon\u001B[0m \u001B[1;32mimport\u001B[0m \u001B[0mepsilon\u001B[0m\u001B[1;33m\u001B[0m\u001B[1;33m\u001B[0m\u001B[0m\n\u001B[0;32m     23\u001B[0m \u001B[1;32mfrom\u001B[0m \u001B[1;33m.\u001B[0m\u001B[0mcommon\u001B[0m \u001B[1;32mimport\u001B[0m \u001B[0mnormalize_data_format\u001B[0m\u001B[1;33m\u001B[0m\u001B[1;33m\u001B[0m\u001B[0m\n\u001B[1;32m---> 24\u001B[1;33m \u001B[1;32mfrom\u001B[0m \u001B[1;33m.\u001B[0m\u001B[1;33m.\u001B[0m\u001B[0mutils\u001B[0m\u001B[1;33m.\u001B[0m\u001B[0mgeneric_utils\u001B[0m \u001B[1;32mimport\u001B[0m \u001B[0mtranspose_shape\u001B[0m\u001B[1;33m\u001B[0m\u001B[1;33m\u001B[0m\u001B[0m\n\u001B[0m\u001B[0;32m     25\u001B[0m \u001B[1;32mfrom\u001B[0m \u001B[1;33m.\u001B[0m\u001B[1;33m.\u001B[0m\u001B[0mutils\u001B[0m\u001B[1;33m.\u001B[0m\u001B[0mgeneric_utils\u001B[0m \u001B[1;32mimport\u001B[0m \u001B[0mhas_arg\u001B[0m\u001B[1;33m\u001B[0m\u001B[1;33m\u001B[0m\u001B[0m\n\u001B[0;32m     26\u001B[0m \u001B[1;33m\u001B[0m\u001B[0m\n",
      "\u001B[1;31mImportError\u001B[0m: cannot import name 'transpose_shape' from 'keras.utils.generic_utils' (c:\\users\\regine\\appdata\\local\\programs\\python\\python39\\lib\\site-packages\\keras\\utils\\generic_utils.py)"
     ]
    }
   ],
   "source": [
    "from keras.utils import plot_model\n",
    "plot_model(model, to_file='model.png')"
   ]
  },
  {
   "cell_type": "markdown",
   "metadata": {},
   "source": [
    "## Compile + train"
   ]
  },
  {
   "cell_type": "code",
   "execution_count": null,
   "metadata": {
    "ExecuteTime": {
     "end_time": "2019-06-11T09:30:24.433203Z",
     "start_time": "2019-06-11T09:30:24.429202Z"
    }
   },
   "outputs": [],
   "source": [
    "from keras.callbacks import ModelCheckpoint\n",
    "\n",
    "\n",
    "model_filename = 'segm_model_v0.h5'\n",
    "callback_checkpoint = ModelCheckpoint(\n",
    "    model_filename, \n",
    "    verbose=1, \n",
    "    monitor='val_loss', \n",
    "    save_best_only=True,\n",
    ")"
   ]
  },
  {
   "cell_type": "code",
   "execution_count": null,
   "metadata": {
    "ExecuteTime": {
     "end_time": "2019-06-11T09:30:24.736240Z",
     "start_time": "2019-06-11T09:30:24.680251Z"
    }
   },
   "outputs": [],
   "source": [
    "from keras.optimizers import Adam, SGD\n",
    "from keras_unet.metrics import iou, iou_thresholded\n",
    "from keras_unet.losses import jaccard_distance\n",
    "\n",
    "model.compile(\n",
    "    #optimizer=Adam(), \n",
    "    optimizer=SGD(lr=0.01, momentum=0.99),\n",
    "    loss='binary_crossentropy',\n",
    "    #loss=jaccard_distance,\n",
    "    metrics=[iou, iou_thresholded]\n",
    ")\n"
   ]
  },
  {
   "cell_type": "code",
   "execution_count": null,
   "metadata": {
    "ExecuteTime": {
     "start_time": "2019-06-11T09:30:25.417Z"
    },
    "scrolled": false
   },
   "outputs": [],
   "source": [
    "history = model.fit_generator(\n",
    "    train_gen,\n",
    "    steps_per_epoch=100,\n",
    "    epochs=10,\n",
    "    \n",
    "    validation_data=(x_val, y_val),\n",
    "    callbacks=[callback_checkpoint]\n",
    ")"
   ]
  },
  {
   "cell_type": "markdown",
   "metadata": {},
   "source": [
    "## Plot training history"
   ]
  },
  {
   "cell_type": "code",
   "execution_count": null,
   "metadata": {
    "ExecuteTime": {
     "end_time": "2019-04-25T14:22:16.614268Z",
     "start_time": "2019-04-25T14:22:16.240266Z"
    }
   },
   "outputs": [],
   "source": [
    "from keras_unet.utils import plot_segm_history\n",
    "\n",
    "plot_segm_history(history)"
   ]
  },
  {
   "cell_type": "markdown",
   "metadata": {},
   "source": [
    "## Plot original + ground truth + pred + overlay (pred on top of original)"
   ]
  },
  {
   "cell_type": "code",
   "execution_count": null,
   "metadata": {
    "ExecuteTime": {
     "end_time": "2019-04-25T14:24:19.609395Z",
     "start_time": "2019-04-25T14:24:03.016351Z"
    }
   },
   "outputs": [],
   "source": [
    "model.load_weights(model_filename)\n",
    "y_pred = model.predict(x_val)"
   ]
  },
  {
   "cell_type": "code",
   "execution_count": null,
   "metadata": {
    "ExecuteTime": {
     "end_time": "2019-04-25T14:24:24.751861Z",
     "start_time": "2019-04-25T14:24:21.259127Z"
    },
    "scrolled": false
   },
   "outputs": [],
   "source": [
    "from keras_unet.utils import plot_imgs\n",
    "\n",
    "plot_imgs(org_imgs=x_val, mask_imgs=y_val, pred_imgs=y_pred, nm_img_to_plot=9)"
   ]
  }
 ],
 "metadata": {
  "kernelspec": {
   "name": "python3",
   "language": "python",
   "display_name": "Python 3"
  },
  "language_info": {
   "codemirror_mode": {
    "name": "ipython",
    "version": 3
   },
   "file_extension": ".py",
   "mimetype": "text/x-python",
   "name": "python",
   "nbconvert_exporter": "python",
   "pygments_lexer": "ipython3",
   "version": "3.5.6"
  }
 },
 "nbformat": 4,
 "nbformat_minor": 2
}