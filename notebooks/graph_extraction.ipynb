{
 "cells": [
  {
   "cell_type": "code",
   "execution_count": 5,
   "outputs": [],
   "source": [],
   "metadata": {
    "collapsed": false,
    "pycharm": {
     "name": "#%%\n"
    }
   }
  },
  {
   "cell_type": "code",
   "execution_count": 6,
   "outputs": [],
   "source": [
    "import copy\n",
    "import numpy as np\n",
    "import matplotlib.pyplot as plt\n",
    "%matplotlib inline\n",
    "import glob\n",
    "import os\n",
    "import sys\n",
    "import cv2\n",
    "from PIL import Image"
   ],
   "metadata": {
    "collapsed": false,
    "pycharm": {
     "name": "#%%\n"
    }
   }
  },
  {
   "cell_type": "markdown",
   "source": [
    "## Load data"
   ],
   "metadata": {
    "collapsed": false
   }
  },
  {
   "cell_type": "code",
   "execution_count": 7,
   "outputs": [],
   "source": [
    "network_dim = int(256/2)  # ensure that this is always greater than max node number that occurs in your data\n",
    "                      # in addition it needs to fit to the unet layer for concatenation"
   ],
   "metadata": {
    "collapsed": false,
    "pycharm": {
     "name": "#%%\n"
    }
   }
  },
  {
   "cell_type": "code",
   "execution_count": 8,
   "outputs": [],
   "source": [
    "#graphs\n",
    "# #masks = glob.glob(\"../input/graph_images/train/label/*.png\")\n",
    "# masks = np.load('../input/graph_images/train/label/adjcouput_matrix.npy',allow_pickle='TRUE').item()\n",
    "# orgs = glob.glob(\"../input/graph_images/train/image/*.png\")\n",
    "\n",
    "#training images\n",
    "#masks = np.load('S:/06_Studienarbeit/03_CNN/generate_data/data/train/label/adjcouput_matrix.npy',allow_pickle='TRUE').item()\n",
    "masks = glob.glob('S:/06_Studienarbeit/03_CNN/generate_data/data/train_less128_2000imgs/label/*')\n",
    "masks = masks[0:10]\n",
    "orgs = glob.glob(\"S:/06_Studienarbeit/03_CNN/generate_data/data/train_less128_2000imgs/image/*.png\")\n",
    "orgs = orgs[0:10]\n",
    "#every training image has less than 128 nodes"
   ],
   "metadata": {
    "collapsed": false,
    "pycharm": {
     "name": "#%%\n"
    }
   }
  },
  {
   "cell_type": "code",
   "execution_count": 9,
   "outputs": [],
   "source": [
    "# graph images\n",
    "# imgs_list = []\n",
    "# masks_list = []\n",
    "# for image, mask in zip(orgs, masks):\n",
    "#     imgs_list.append(np.array(Image.open(image).convert('L').resize((512,512))))\n",
    "#     #print(image)\n",
    "#     key = image\n",
    "#     #print(key[-14:-9])\n",
    "#     graph_label = masks[key[-14:-9]]\n",
    "#     masks_list.append(np.array(graph_label))\n",
    "#\n",
    "# imgs_np = np.asarray(imgs_list)\n",
    "# masks_np = np.asarray(masks_list)\n",
    "# y_positions_label = masks_np[:,:,0:2]\n",
    "# y_adjacency_label = masks_np[:,:,2:37]\n"
   ],
   "metadata": {
    "collapsed": false,
    "pycharm": {
     "name": "#%%\n"
    }
   }
  },
  {
   "cell_type": "code",
   "execution_count": 10,
   "outputs": [
    {
     "name": "stdout",
     "output_type": "stream",
     "text": [
      "00000\n",
      "00001\n",
      "00002\n",
      "00003\n",
      "00004\n",
      "00005\n",
      "00006\n",
      "00007\n",
      "00008\n",
      "00009\n"
     ]
    }
   ],
   "source": [
    "#training images\n",
    "imgs_list = []\n",
    "masks_list = []\n",
    "#masks_list_position = []\n",
    "#masks_list_adjacency = []\n",
    "for image, mask in zip(orgs, masks):\n",
    "    I = cv2.imread(image)\n",
    "    key = image\n",
    "    print(key[-14:-9])\n",
    "    #graph_label = masks[key[-14:-9]]\n",
    "    graph_label = np.load(masks[int(key[-14:-9])], allow_pickle=True)\n",
    "    graph_label_norm = graph_label.copy()\n",
    "    positions = graph_label[:, :2, 0]\n",
    "    #normalize positions\n",
    "    pos_norm = np.zeros(positions.shape)\n",
    "    for i in range(len(positions)):\n",
    "        pos_norm[i][0] = np.round((positions[i][0]/I.shape[1])*512, 0)\n",
    "        pos_norm[i][1] = np.round((positions[i][1] /I.shape[0])*512, 0)\n",
    "    graph_label_norm[:, :2, 0] = pos_norm\n",
    "    #pad the label to obtain uniform array sizes\n",
    "    graph_label_padded = np.pad(graph_label_norm, ((0, 128-graph_label.shape[0]), (0, 130-graph_label.shape[1]), (0, 0)))\n",
    "    imgs_list.append(np.array(Image.open(image).convert('L').resize((512,512))))\n",
    "    #masks_list_position.append(np.array(graph_label_norm[:, 0:2, 0]))\n",
    "    #masks_list_adjacency.append(np.array(graph_label_norm[:, 2:, 0]))\n",
    "    masks_list.append(graph_label_padded)\n",
    "\n",
    "imgs_np = np.asarray(imgs_list)\n",
    "masks_np = np.asarray(masks_list)\n",
    "#masks_position_np = np.asarray(masks_list_position)\n",
    "#masks_adjacency_np = np.asarray(masks_list_adjacency)\n",
    "\n",
    "#uniform array sizes are necessary\n",
    "y_positions_label = masks_np[:, :, 0:2, 0]\n",
    "y_adjacency_label = masks_np[:,:,2:130, 0]\n",
    "\n",
    "#y_positions_label = masks_position_np.copy()\n",
    "#y_adjacency_label = masks_adjacency_np.copy()"
   ],
   "metadata": {
    "collapsed": false,
    "pycharm": {
     "name": "#%%\n"
    }
   }
  },
  {
   "cell_type": "code",
   "execution_count": 11,
   "outputs": [
    {
     "name": "stdout",
     "output_type": "stream",
     "text": [
      "total number of positions:  (10, 256)\n",
      "total number of relevant adjacency etries:  (10, 8128)\n"
     ]
    }
   ],
   "source": [
    "# form position matrix and adjacency in a one dimensional vector information\n",
    "y_positions_label = y_positions_label.reshape((y_positions_label.shape[0],y_positions_label.shape[1]*2))\n",
    "\n",
    "adjacency_label_indices = np.triu_indices(y_adjacency_label.shape[1], k = 1)\n",
    "y_adjacency_label =y_adjacency_label[:,adjacency_label_indices[0],adjacency_label_indices[1]]\n",
    "y_label = [y_positions_label,y_adjacency_label]\n",
    "print('total number of positions: ', y_positions_label.shape)\n",
    "print('total number of relevant adjacency etries: ', y_adjacency_label.shape)"
   ],
   "metadata": {
    "collapsed": false,
    "pycharm": {
     "name": "#%%\n"
    }
   }
  },
  {
   "cell_type": "code",
   "execution_count": 12,
   "outputs": [
    {
     "name": "stdout",
     "output_type": "stream",
     "text": [
      "(10, 512, 512) (10, 256) (10, 8128)\n"
     ]
    }
   ],
   "source": [
    "print(imgs_np.shape, y_label[0].shape, y_label[1].shape )"
   ],
   "metadata": {
    "collapsed": false,
    "pycharm": {
     "name": "#%%\n"
    }
   }
  },
  {
   "cell_type": "markdown",
   "source": [
    "## Plot images + masks + overlay (mask over original)"
   ],
   "metadata": {
    "collapsed": false
   }
  },
  {
   "cell_type": "code",
   "execution_count": 13,
   "outputs": [],
   "source": [
    "#from keras_unet.utils_regine import plot_imgs_regine\n",
    "#index = 1\n",
    "#fig = plot_imgs_regine(imgs_np, masks_np, index)\n",
    "\n",
    "#from keras_unet.utils import plot_imgs\n",
    "#plot_imgs(org_imgs=imgs_np, mask_imgs=masks_np, nm_img_to_plot=10, figsize=6)"
   ],
   "metadata": {
    "collapsed": false,
    "pycharm": {
     "name": "#%%\n"
    }
   }
  },
  {
   "cell_type": "markdown",
   "source": [
    "## Get data into correct shape, dtype and range (0.0-1.0)"
   ],
   "metadata": {
    "collapsed": false
   }
  },
  {
   "cell_type": "code",
   "execution_count": 14,
   "outputs": [
    {
     "name": "stdout",
     "output_type": "stream",
     "text": [
      "245 968.8575961960642\n"
     ]
    }
   ],
   "source": [
    "print(imgs_np.max(), masks_np.max())"
   ],
   "metadata": {
    "collapsed": false,
    "pycharm": {
     "name": "#%%\n"
    }
   }
  },
  {
   "cell_type": "code",
   "execution_count": 15,
   "outputs": [],
   "source": [
    "x = np.asarray(imgs_np, dtype=np.float32)/255\n",
    "#y = np.asarray(masks_np, dtype=np.float32)/255"
   ],
   "metadata": {
    "collapsed": false,
    "pycharm": {
     "name": "#%%\n"
    }
   }
  },
  {
   "cell_type": "code",
   "execution_count": 16,
   "outputs": [],
   "source": [
    "# tailor the data to the specific pre defined network dimension\n",
    "y_label_positions = y_label[0]\n",
    "y_label_adjacency = y_label[1]\n",
    "\n",
    "a = np.full((y_label_positions.shape[0],network_dim *2), -9.9)\n",
    "adj_flatten_dim = int((network_dim*network_dim-network_dim)/2)\n",
    "b = np.zeros((y_label[1].shape[0],adj_flatten_dim))\n",
    "\n",
    "a[:,0:y_label_positions.shape[1]] = y_label_positions\n",
    "b[:,0:y_label_adjacency.shape[1]]= y_label_adjacency\n",
    "\n",
    "y_label = [a, b]"
   ],
   "metadata": {
    "collapsed": false,
    "pycharm": {
     "name": "#%%\n"
    }
   }
  },
  {
   "cell_type": "code",
   "execution_count": 17,
   "outputs": [],
   "source": [
    "x = x.reshape(x.shape[0], x.shape[1], x.shape[2], 1)"
   ],
   "metadata": {
    "collapsed": false,
    "pycharm": {
     "name": "#%% # shape input data\n"
    }
   }
  },
  {
   "cell_type": "markdown",
   "source": [
    "##  Train/val split"
   ],
   "metadata": {
    "collapsed": false
   }
  },
  {
   "cell_type": "code",
   "execution_count": 18,
   "outputs": [
    {
     "name": "stdout",
     "output_type": "stream",
     "text": [
      "x_train:  (9, 512, 512, 1)\n",
      "y_train_positions:  (9, 256)\n",
      " y_train_adjacency:  (9, 8128)\n",
      "x_val:  (1, 512, 512, 1)\n",
      "y_val_positions:  (1, 256)\n",
      "y_val_adjacency:  (1, 8128)\n"
     ]
    }
   ],
   "source": [
    "from sklearn.model_selection import train_test_split\n",
    "# split data\n",
    "x_train, x_val, y_train_positions,y_val_positions, y_train_adjacency, y_val_adjacency = train_test_split(x, y_label[0], y_label[1], test_size=0.1, random_state=0)\n",
    "print(\"x_train: \", x_train.shape)\n",
    "print(\"y_train_positions: \", y_train_positions.shape)\n",
    "print(\" y_train_adjacency: \", y_train_adjacency.shape)\n",
    "print(\"x_val: \", x_val.shape)\n",
    "print(\"y_val_positions: \", y_val_positions.shape)\n",
    "print(\"y_val_adjacency: \", y_val_adjacency.shape)\n",
    "\n",
    "from models_graph.prepare_functions import convert_to_tensor\n",
    "\n",
    "# convert from numpy to tensorflow object\n",
    "x_train = convert_to_tensor(x_train)\n",
    "x_val = convert_to_tensor(x_val)\n",
    "y_train_positions = convert_to_tensor(y_train_positions)\n",
    "y_train_adjacency = convert_to_tensor(y_train_adjacency)\n",
    "y_val_positions = convert_to_tensor(y_val_positions)\n",
    "y_val_adjacency = convert_to_tensor(y_val_adjacency)"
   ],
   "metadata": {
    "collapsed": false,
    "pycharm": {
     "name": "#%%\n"
    }
   }
  },
  {
   "cell_type": "markdown",
   "source": [
    "## Initialize network"
   ],
   "metadata": {
    "collapsed": false
   }
  },
  {
   "cell_type": "code",
   "execution_count": 19,
   "outputs": [
    {
     "name": "stdout",
     "output_type": "stream",
     "text": [
      "(9, 512, 512, 1)\n"
     ]
    }
   ],
   "source": [
    "from models_graph.custom_graph_head import custom_graph_head, custom_adj_unet\n",
    "print(x_train.shape)\n",
    "input_shape = (512, 512, 1)\n",
    "model = custom_adj_unet(input_size = input_shape, pretrained_weights =None, network_dim = network_dim)"
   ],
   "metadata": {
    "collapsed": false,
    "pycharm": {
     "name": "#%%\n"
    }
   }
  },
  {
   "cell_type": "markdown",
   "source": [
    "## Network shape"
   ],
   "metadata": {
    "collapsed": false
   }
  },
  {
   "cell_type": "code",
   "execution_count": 20,
   "outputs": [
    {
     "name": "stdout",
     "output_type": "stream",
     "text": [
      "Input Shape:  (None, 512, 512, 1)\n",
      "Output Shape:  [(None, 256), (None, 8128)]\n",
      "with position vector:  (None, 256)  and adjacency vector:  (None, 8128)\n",
      "Model: \"model\"\n",
      "__________________________________________________________________________________________________\n",
      "Layer (type)                    Output Shape         Param #     Connected to                     \n",
      "==================================================================================================\n",
      "input_image (InputLayer)        [(None, 512, 512, 1) 0                                            \n",
      "__________________________________________________________________________________________________\n",
      "conv2d (Conv2D)                 (None, 512, 512, 64) 640         input_image[0][0]                \n",
      "__________________________________________________________________________________________________\n",
      "conv2d_1 (Conv2D)               (None, 512, 512, 64) 36928       conv2d[0][0]                     \n",
      "__________________________________________________________________________________________________\n",
      "max_pooling2d (MaxPooling2D)    (None, 256, 256, 64) 0           conv2d_1[0][0]                   \n",
      "__________________________________________________________________________________________________\n",
      "conv2d_2 (Conv2D)               (None, 256, 256, 128 73856       max_pooling2d[0][0]              \n",
      "__________________________________________________________________________________________________\n",
      "max_pooling2d_1 (MaxPooling2D)  (None, 128, 128, 128 0           conv2d_2[0][0]                   \n",
      "__________________________________________________________________________________________________\n",
      "conv2d_3 (Conv2D)               (None, 128, 128, 256 295168      max_pooling2d_1[0][0]            \n",
      "__________________________________________________________________________________________________\n",
      "max_pooling2d_2 (MaxPooling2D)  (None, 64, 64, 256)  0           conv2d_3[0][0]                   \n",
      "__________________________________________________________________________________________________\n",
      "conv2d_4 (Conv2D)               (None, 64, 64, 128)  295040      max_pooling2d_2[0][0]            \n",
      "__________________________________________________________________________________________________\n",
      "dropout (Dropout)               (None, 64, 64, 128)  0           conv2d_4[0][0]                   \n",
      "__________________________________________________________________________________________________\n",
      "max_pooling2d_3 (MaxPooling2D)  (None, 32, 32, 128)  0           dropout[0][0]                    \n",
      "__________________________________________________________________________________________________\n",
      "conv2d_5 (Conv2D)               (None, 32, 32, 1024) 1180672     max_pooling2d_3[0][0]            \n",
      "__________________________________________________________________________________________________\n",
      "dropout_1 (Dropout)             (None, 32, 32, 1024) 0           conv2d_5[0][0]                   \n",
      "__________________________________________________________________________________________________\n",
      "up_sampling2d (UpSampling2D)    (None, 64, 64, 1024) 0           dropout_1[0][0]                  \n",
      "__________________________________________________________________________________________________\n",
      "conv2d_6 (Conv2D)               (None, 64, 64, 256)  1048832     up_sampling2d[0][0]              \n",
      "__________________________________________________________________________________________________\n",
      "concatenate (Concatenate)       (None, 64, 64, 384)  0           dropout[0][0]                    \n",
      "                                                                 conv2d_6[0][0]                   \n",
      "__________________________________________________________________________________________________\n",
      "conv2d_7 (Conv2D)               (None, 64, 64, 256)  884992      concatenate[0][0]                \n",
      "__________________________________________________________________________________________________\n",
      "up_sampling2d_1 (UpSampling2D)  (None, 128, 128, 256 0           conv2d_7[0][0]                   \n",
      "__________________________________________________________________________________________________\n",
      "conv2d_8 (Conv2D)               (None, 128, 128, 128 131200      up_sampling2d_1[0][0]            \n",
      "__________________________________________________________________________________________________\n",
      "concatenate_1 (Concatenate)     (None, 128, 128, 384 0           conv2d_3[0][0]                   \n",
      "                                                                 conv2d_8[0][0]                   \n",
      "__________________________________________________________________________________________________\n",
      "conv2d_9 (Conv2D)               (None, 128, 128, 128 442496      concatenate_1[0][0]              \n",
      "__________________________________________________________________________________________________\n",
      "up_sampling2d_2 (UpSampling2D)  (None, 256, 256, 128 0           conv2d_9[0][0]                   \n",
      "__________________________________________________________________________________________________\n",
      "conv2d_10 (Conv2D)              (None, 256, 256, 128 65664       up_sampling2d_2[0][0]            \n",
      "__________________________________________________________________________________________________\n",
      "concatenate_2 (Concatenate)     (None, 256, 256, 256 0           conv2d_2[0][0]                   \n",
      "                                                                 conv2d_10[0][0]                  \n",
      "__________________________________________________________________________________________________\n",
      "conv2d_11 (Conv2D)              (None, 256, 256, 128 295040      concatenate_2[0][0]              \n",
      "__________________________________________________________________________________________________\n",
      "up_sampling2d_3 (UpSampling2D)  (None, 512, 512, 128 0           conv2d_11[0][0]                  \n",
      "__________________________________________________________________________________________________\n",
      "conv2d_12 (Conv2D)              (None, 512, 512, 32) 16416       up_sampling2d_3[0][0]            \n",
      "__________________________________________________________________________________________________\n",
      "concatenate_3 (Concatenate)     (None, 512, 512, 96) 0           conv2d_1[0][0]                   \n",
      "                                                                 conv2d_12[0][0]                  \n",
      "__________________________________________________________________________________________________\n",
      "conv2d_13 (Conv2D)              (None, 512, 512, 32) 27680       concatenate_3[0][0]              \n",
      "__________________________________________________________________________________________________\n",
      "max_pooling2d_4 (MaxPooling2D)  (None, 256, 256, 32) 0           conv2d_13[0][0]                  \n",
      "__________________________________________________________________________________________________\n",
      "dropout_2 (Dropout)             (None, 256, 256, 32) 0           max_pooling2d_4[0][0]            \n",
      "__________________________________________________________________________________________________\n",
      "conv2d_14 (Conv2D)              (None, 256, 256, 4)  1156        dropout_2[0][0]                  \n",
      "__________________________________________________________________________________________________\n",
      "max_pooling2d_5 (MaxPooling2D)  (None, 128, 128, 4)  0           conv2d_14[0][0]                  \n",
      "__________________________________________________________________________________________________\n",
      "flatten (Flatten)               (None, 65536)        0           max_pooling2d_5[0][0]            \n",
      "__________________________________________________________________________________________________\n",
      "pixel_position_of_nodes (Dense) (None, 256)          16777472    flatten[0][0]                    \n",
      "__________________________________________________________________________________________________\n",
      "tf.stack (TFOpLambda)           (None, 256, 256)     0           pixel_position_of_nodes[0][0]    \n",
      "                                                                 pixel_position_of_nodes[0][0]    \n",
      "                                                                 pixel_position_of_nodes[0][0]    \n",
      "                                                                 pixel_position_of_nodes[0][0]    \n",
      "                                                                 pixel_position_of_nodes[0][0]    \n",
      "                                                                 pixel_position_of_nodes[0][0]    \n",
      "                                                                 pixel_position_of_nodes[0][0]    \n",
      "                                                                 pixel_position_of_nodes[0][0]    \n",
      "                                                                 pixel_position_of_nodes[0][0]    \n",
      "                                                                 pixel_position_of_nodes[0][0]    \n",
      "                                                                 pixel_position_of_nodes[0][0]    \n",
      "                                                                 pixel_position_of_nodes[0][0]    \n",
      "                                                                 pixel_position_of_nodes[0][0]    \n",
      "                                                                 pixel_position_of_nodes[0][0]    \n",
      "                                                                 pixel_position_of_nodes[0][0]    \n",
      "                                                                 pixel_position_of_nodes[0][0]    \n",
      "                                                                 pixel_position_of_nodes[0][0]    \n",
      "                                                                 pixel_position_of_nodes[0][0]    \n",
      "                                                                 pixel_position_of_nodes[0][0]    \n",
      "                                                                 pixel_position_of_nodes[0][0]    \n",
      "                                                                 pixel_position_of_nodes[0][0]    \n",
      "                                                                 pixel_position_of_nodes[0][0]    \n",
      "                                                                 pixel_position_of_nodes[0][0]    \n",
      "                                                                 pixel_position_of_nodes[0][0]    \n",
      "                                                                 pixel_position_of_nodes[0][0]    \n",
      "                                                                 pixel_position_of_nodes[0][0]    \n",
      "                                                                 pixel_position_of_nodes[0][0]    \n",
      "                                                                 pixel_position_of_nodes[0][0]    \n",
      "                                                                 pixel_position_of_nodes[0][0]    \n",
      "                                                                 pixel_position_of_nodes[0][0]    \n",
      "                                                                 pixel_position_of_nodes[0][0]    \n",
      "                                                                 pixel_position_of_nodes[0][0]    \n",
      "                                                                 pixel_position_of_nodes[0][0]    \n",
      "                                                                 pixel_position_of_nodes[0][0]    \n",
      "                                                                 pixel_position_of_nodes[0][0]    \n",
      "                                                                 pixel_position_of_nodes[0][0]    \n",
      "                                                                 pixel_position_of_nodes[0][0]    \n",
      "                                                                 pixel_position_of_nodes[0][0]    \n",
      "                                                                 pixel_position_of_nodes[0][0]    \n",
      "                                                                 pixel_position_of_nodes[0][0]    \n",
      "                                                                 pixel_position_of_nodes[0][0]    \n",
      "                                                                 pixel_position_of_nodes[0][0]    \n",
      "                                                                 pixel_position_of_nodes[0][0]    \n",
      "                                                                 pixel_position_of_nodes[0][0]    \n",
      "                                                                 pixel_position_of_nodes[0][0]    \n",
      "                                                                 pixel_position_of_nodes[0][0]    \n",
      "                                                                 pixel_position_of_nodes[0][0]    \n",
      "                                                                 pixel_position_of_nodes[0][0]    \n",
      "                                                                 pixel_position_of_nodes[0][0]    \n",
      "                                                                 pixel_position_of_nodes[0][0]    \n",
      "                                                                 pixel_position_of_nodes[0][0]    \n",
      "                                                                 pixel_position_of_nodes[0][0]    \n",
      "                                                                 pixel_position_of_nodes[0][0]    \n",
      "                                                                 pixel_position_of_nodes[0][0]    \n",
      "                                                                 pixel_position_of_nodes[0][0]    \n",
      "                                                                 pixel_position_of_nodes[0][0]    \n",
      "                                                                 pixel_position_of_nodes[0][0]    \n",
      "                                                                 pixel_position_of_nodes[0][0]    \n",
      "                                                                 pixel_position_of_nodes[0][0]    \n",
      "                                                                 pixel_position_of_nodes[0][0]    \n",
      "                                                                 pixel_position_of_nodes[0][0]    \n",
      "                                                                 pixel_position_of_nodes[0][0]    \n",
      "                                                                 pixel_position_of_nodes[0][0]    \n",
      "                                                                 pixel_position_of_nodes[0][0]    \n",
      "                                                                 pixel_position_of_nodes[0][0]    \n",
      "                                                                 pixel_position_of_nodes[0][0]    \n",
      "                                                                 pixel_position_of_nodes[0][0]    \n",
      "                                                                 pixel_position_of_nodes[0][0]    \n",
      "                                                                 pixel_position_of_nodes[0][0]    \n",
      "                                                                 pixel_position_of_nodes[0][0]    \n",
      "                                                                 pixel_position_of_nodes[0][0]    \n",
      "                                                                 pixel_position_of_nodes[0][0]    \n",
      "                                                                 pixel_position_of_nodes[0][0]    \n",
      "                                                                 pixel_position_of_nodes[0][0]    \n",
      "                                                                 pixel_position_of_nodes[0][0]    \n",
      "                                                                 pixel_position_of_nodes[0][0]    \n",
      "                                                                 pixel_position_of_nodes[0][0]    \n",
      "                                                                 pixel_position_of_nodes[0][0]    \n",
      "                                                                 pixel_position_of_nodes[0][0]    \n",
      "                                                                 pixel_position_of_nodes[0][0]    \n",
      "                                                                 pixel_position_of_nodes[0][0]    \n",
      "                                                                 pixel_position_of_nodes[0][0]    \n",
      "                                                                 pixel_position_of_nodes[0][0]    \n",
      "                                                                 pixel_position_of_nodes[0][0]    \n",
      "                                                                 pixel_position_of_nodes[0][0]    \n",
      "                                                                 pixel_position_of_nodes[0][0]    \n",
      "                                                                 pixel_position_of_nodes[0][0]    \n",
      "                                                                 pixel_position_of_nodes[0][0]    \n",
      "                                                                 pixel_position_of_nodes[0][0]    \n",
      "                                                                 pixel_position_of_nodes[0][0]    \n",
      "                                                                 pixel_position_of_nodes[0][0]    \n",
      "                                                                 pixel_position_of_nodes[0][0]    \n",
      "                                                                 pixel_position_of_nodes[0][0]    \n",
      "                                                                 pixel_position_of_nodes[0][0]    \n",
      "                                                                 pixel_position_of_nodes[0][0]    \n",
      "                                                                 pixel_position_of_nodes[0][0]    \n",
      "                                                                 pixel_position_of_nodes[0][0]    \n",
      "                                                                 pixel_position_of_nodes[0][0]    \n",
      "                                                                 pixel_position_of_nodes[0][0]    \n",
      "                                                                 pixel_position_of_nodes[0][0]    \n",
      "                                                                 pixel_position_of_nodes[0][0]    \n",
      "                                                                 pixel_position_of_nodes[0][0]    \n",
      "                                                                 pixel_position_of_nodes[0][0]    \n",
      "                                                                 pixel_position_of_nodes[0][0]    \n",
      "                                                                 pixel_position_of_nodes[0][0]    \n",
      "                                                                 pixel_position_of_nodes[0][0]    \n",
      "                                                                 pixel_position_of_nodes[0][0]    \n",
      "                                                                 pixel_position_of_nodes[0][0]    \n",
      "                                                                 pixel_position_of_nodes[0][0]    \n",
      "                                                                 pixel_position_of_nodes[0][0]    \n",
      "                                                                 pixel_position_of_nodes[0][0]    \n",
      "                                                                 pixel_position_of_nodes[0][0]    \n",
      "                                                                 pixel_position_of_nodes[0][0]    \n",
      "                                                                 pixel_position_of_nodes[0][0]    \n",
      "                                                                 pixel_position_of_nodes[0][0]    \n",
      "                                                                 pixel_position_of_nodes[0][0]    \n",
      "                                                                 pixel_position_of_nodes[0][0]    \n",
      "                                                                 pixel_position_of_nodes[0][0]    \n",
      "                                                                 pixel_position_of_nodes[0][0]    \n",
      "                                                                 pixel_position_of_nodes[0][0]    \n",
      "                                                                 pixel_position_of_nodes[0][0]    \n",
      "                                                                 pixel_position_of_nodes[0][0]    \n",
      "                                                                 pixel_position_of_nodes[0][0]    \n",
      "                                                                 pixel_position_of_nodes[0][0]    \n",
      "                                                                 pixel_position_of_nodes[0][0]    \n",
      "                                                                 pixel_position_of_nodes[0][0]    \n",
      "                                                                 pixel_position_of_nodes[0][0]    \n",
      "                                                                 pixel_position_of_nodes[0][0]    \n",
      "                                                                 pixel_position_of_nodes[0][0]    \n",
      "                                                                 pixel_position_of_nodes[0][0]    \n",
      "                                                                 pixel_position_of_nodes[0][0]    \n",
      "                                                                 pixel_position_of_nodes[0][0]    \n",
      "                                                                 pixel_position_of_nodes[0][0]    \n",
      "                                                                 pixel_position_of_nodes[0][0]    \n",
      "                                                                 pixel_position_of_nodes[0][0]    \n",
      "                                                                 pixel_position_of_nodes[0][0]    \n",
      "                                                                 pixel_position_of_nodes[0][0]    \n",
      "                                                                 pixel_position_of_nodes[0][0]    \n",
      "                                                                 pixel_position_of_nodes[0][0]    \n",
      "                                                                 pixel_position_of_nodes[0][0]    \n",
      "                                                                 pixel_position_of_nodes[0][0]    \n",
      "                                                                 pixel_position_of_nodes[0][0]    \n",
      "                                                                 pixel_position_of_nodes[0][0]    \n",
      "                                                                 pixel_position_of_nodes[0][0]    \n",
      "                                                                 pixel_position_of_nodes[0][0]    \n",
      "                                                                 pixel_position_of_nodes[0][0]    \n",
      "                                                                 pixel_position_of_nodes[0][0]    \n",
      "                                                                 pixel_position_of_nodes[0][0]    \n",
      "                                                                 pixel_position_of_nodes[0][0]    \n",
      "                                                                 pixel_position_of_nodes[0][0]    \n",
      "                                                                 pixel_position_of_nodes[0][0]    \n",
      "                                                                 pixel_position_of_nodes[0][0]    \n",
      "                                                                 pixel_position_of_nodes[0][0]    \n",
      "                                                                 pixel_position_of_nodes[0][0]    \n",
      "                                                                 pixel_position_of_nodes[0][0]    \n",
      "                                                                 pixel_position_of_nodes[0][0]    \n",
      "                                                                 pixel_position_of_nodes[0][0]    \n",
      "                                                                 pixel_position_of_nodes[0][0]    \n",
      "                                                                 pixel_position_of_nodes[0][0]    \n",
      "                                                                 pixel_position_of_nodes[0][0]    \n",
      "                                                                 pixel_position_of_nodes[0][0]    \n",
      "                                                                 pixel_position_of_nodes[0][0]    \n",
      "                                                                 pixel_position_of_nodes[0][0]    \n",
      "                                                                 pixel_position_of_nodes[0][0]    \n",
      "                                                                 pixel_position_of_nodes[0][0]    \n",
      "                                                                 pixel_position_of_nodes[0][0]    \n",
      "                                                                 pixel_position_of_nodes[0][0]    \n",
      "                                                                 pixel_position_of_nodes[0][0]    \n",
      "                                                                 pixel_position_of_nodes[0][0]    \n",
      "                                                                 pixel_position_of_nodes[0][0]    \n",
      "                                                                 pixel_position_of_nodes[0][0]    \n",
      "                                                                 pixel_position_of_nodes[0][0]    \n",
      "                                                                 pixel_position_of_nodes[0][0]    \n",
      "                                                                 pixel_position_of_nodes[0][0]    \n",
      "                                                                 pixel_position_of_nodes[0][0]    \n",
      "                                                                 pixel_position_of_nodes[0][0]    \n",
      "                                                                 pixel_position_of_nodes[0][0]    \n",
      "                                                                 pixel_position_of_nodes[0][0]    \n",
      "                                                                 pixel_position_of_nodes[0][0]    \n",
      "                                                                 pixel_position_of_nodes[0][0]    \n",
      "                                                                 pixel_position_of_nodes[0][0]    \n",
      "                                                                 pixel_position_of_nodes[0][0]    \n",
      "                                                                 pixel_position_of_nodes[0][0]    \n",
      "                                                                 pixel_position_of_nodes[0][0]    \n",
      "                                                                 pixel_position_of_nodes[0][0]    \n",
      "                                                                 pixel_position_of_nodes[0][0]    \n",
      "                                                                 pixel_position_of_nodes[0][0]    \n",
      "                                                                 pixel_position_of_nodes[0][0]    \n",
      "                                                                 pixel_position_of_nodes[0][0]    \n",
      "                                                                 pixel_position_of_nodes[0][0]    \n",
      "                                                                 pixel_position_of_nodes[0][0]    \n",
      "                                                                 pixel_position_of_nodes[0][0]    \n",
      "                                                                 pixel_position_of_nodes[0][0]    \n",
      "                                                                 pixel_position_of_nodes[0][0]    \n",
      "                                                                 pixel_position_of_nodes[0][0]    \n",
      "                                                                 pixel_position_of_nodes[0][0]    \n",
      "                                                                 pixel_position_of_nodes[0][0]    \n",
      "                                                                 pixel_position_of_nodes[0][0]    \n",
      "                                                                 pixel_position_of_nodes[0][0]    \n",
      "                                                                 pixel_position_of_nodes[0][0]    \n",
      "                                                                 pixel_position_of_nodes[0][0]    \n",
      "                                                                 pixel_position_of_nodes[0][0]    \n",
      "                                                                 pixel_position_of_nodes[0][0]    \n",
      "                                                                 pixel_position_of_nodes[0][0]    \n",
      "                                                                 pixel_position_of_nodes[0][0]    \n",
      "                                                                 pixel_position_of_nodes[0][0]    \n",
      "                                                                 pixel_position_of_nodes[0][0]    \n",
      "                                                                 pixel_position_of_nodes[0][0]    \n",
      "                                                                 pixel_position_of_nodes[0][0]    \n",
      "                                                                 pixel_position_of_nodes[0][0]    \n",
      "                                                                 pixel_position_of_nodes[0][0]    \n",
      "                                                                 pixel_position_of_nodes[0][0]    \n",
      "                                                                 pixel_position_of_nodes[0][0]    \n",
      "                                                                 pixel_position_of_nodes[0][0]    \n",
      "                                                                 pixel_position_of_nodes[0][0]    \n",
      "                                                                 pixel_position_of_nodes[0][0]    \n",
      "                                                                 pixel_position_of_nodes[0][0]    \n",
      "                                                                 pixel_position_of_nodes[0][0]    \n",
      "                                                                 pixel_position_of_nodes[0][0]    \n",
      "                                                                 pixel_position_of_nodes[0][0]    \n",
      "                                                                 pixel_position_of_nodes[0][0]    \n",
      "                                                                 pixel_position_of_nodes[0][0]    \n",
      "                                                                 pixel_position_of_nodes[0][0]    \n",
      "                                                                 pixel_position_of_nodes[0][0]    \n",
      "                                                                 pixel_position_of_nodes[0][0]    \n",
      "                                                                 pixel_position_of_nodes[0][0]    \n",
      "                                                                 pixel_position_of_nodes[0][0]    \n",
      "                                                                 pixel_position_of_nodes[0][0]    \n",
      "                                                                 pixel_position_of_nodes[0][0]    \n",
      "                                                                 pixel_position_of_nodes[0][0]    \n",
      "                                                                 pixel_position_of_nodes[0][0]    \n",
      "                                                                 pixel_position_of_nodes[0][0]    \n",
      "                                                                 pixel_position_of_nodes[0][0]    \n",
      "                                                                 pixel_position_of_nodes[0][0]    \n",
      "                                                                 pixel_position_of_nodes[0][0]    \n",
      "                                                                 pixel_position_of_nodes[0][0]    \n",
      "                                                                 pixel_position_of_nodes[0][0]    \n",
      "                                                                 pixel_position_of_nodes[0][0]    \n",
      "                                                                 pixel_position_of_nodes[0][0]    \n",
      "                                                                 pixel_position_of_nodes[0][0]    \n",
      "                                                                 pixel_position_of_nodes[0][0]    \n",
      "                                                                 pixel_position_of_nodes[0][0]    \n",
      "                                                                 pixel_position_of_nodes[0][0]    \n",
      "                                                                 pixel_position_of_nodes[0][0]    \n",
      "                                                                 pixel_position_of_nodes[0][0]    \n",
      "                                                                 pixel_position_of_nodes[0][0]    \n",
      "                                                                 pixel_position_of_nodes[0][0]    \n",
      "                                                                 pixel_position_of_nodes[0][0]    \n",
      "                                                                 pixel_position_of_nodes[0][0]    \n",
      "                                                                 pixel_position_of_nodes[0][0]    \n",
      "                                                                 pixel_position_of_nodes[0][0]    \n",
      "                                                                 pixel_position_of_nodes[0][0]    \n",
      "                                                                 pixel_position_of_nodes[0][0]    \n",
      "                                                                 pixel_position_of_nodes[0][0]    \n",
      "                                                                 pixel_position_of_nodes[0][0]    \n",
      "                                                                 pixel_position_of_nodes[0][0]    \n",
      "__________________________________________________________________________________________________\n",
      "tf.expand_dims (TFOpLambda)     (None, 256, 256, 1)  0           tf.stack[0][0]                   \n",
      "__________________________________________________________________________________________________\n",
      "concatenate_4 (Concatenate)     (None, 256, 256, 33) 0           dropout_2[0][0]                  \n",
      "                                                                 tf.expand_dims[0][0]             \n",
      "__________________________________________________________________________________________________\n",
      "conv2d_15 (Conv2D)              (None, 256, 256, 64) 19072       concatenate_4[0][0]              \n",
      "__________________________________________________________________________________________________\n",
      "conv2d_transpose (Conv2DTranspo (None, 256, 256, 1)  577         conv2d_15[0][0]                  \n",
      "__________________________________________________________________________________________________\n",
      "dropout_3 (Dropout)             (None, 256, 256, 1)  0           conv2d_transpose[0][0]           \n",
      "__________________________________________________________________________________________________\n",
      "max_pooling2d_6 (MaxPooling2D)  (None, 42, 42, 1)    0           dropout_3[0][0]                  \n",
      "__________________________________________________________________________________________________\n",
      "flatten_1 (Flatten)             (None, 1764)         0           max_pooling2d_6[0][0]            \n",
      "__________________________________________________________________________________________________\n",
      "adjacency_matrix (Dense)        (None, 8128)         14345920    flatten_1[0][0]                  \n",
      "==================================================================================================\n",
      "Total params: 35,938,821\n",
      "Trainable params: 35,938,821\n",
      "Non-trainable params: 0\n",
      "__________________________________________________________________________________________________\n"
     ]
    }
   ],
   "source": [
    "print('Input Shape: ',model.input_shape)\n",
    "print('Output Shape: ',model.output_shape)\n",
    "print('with position vector: ',model.output_shape[0], ' and adjacency vector: ', model.output_shape[1])\n",
    "\n",
    "model.summary()"
   ],
   "metadata": {
    "collapsed": false,
    "pycharm": {
     "name": "#%%\n"
    }
   }
  },
  {
   "cell_type": "code",
   "execution_count": 21,
   "outputs": [
    {
     "name": "stdout",
     "output_type": "stream",
     "text": [
      "['D:\\\\Documents\\\\Studium\\\\Studienarbeit\\\\keras-unet\\\\notebooks', 'D:\\\\Documents\\\\Studium\\\\Studienarbeit\\\\keras-unet', 'C:\\\\Users\\\\Regine\\\\AppData\\\\Local\\\\Programs\\\\Python\\\\Python39', 'C:\\\\Users\\\\Regine\\\\AppData\\\\Local\\\\Programs\\\\Python\\\\Python36', 'C:\\\\Users\\\\Regine\\\\AppData\\\\Local\\\\Programs\\\\Python\\\\Python39\\\\python39.zip', 'C:\\\\Users\\\\Regine\\\\AppData\\\\Local\\\\Programs\\\\Python\\\\Python39\\\\DLLs', 'C:\\\\Users\\\\Regine\\\\AppData\\\\Local\\\\Programs\\\\Python\\\\Python39\\\\lib', '', 'C:\\\\Users\\\\Regine\\\\AppData\\\\Roaming\\\\Python\\\\Python39\\\\site-packages', '\\\\\\\\isys-cifs.tik.uni-stuttgart.de\\\\isys_shared\\\\studenten\\\\rausch\\\\06_studienarbeit\\\\02_buildgraph\\\\retipy-python\\\\retipy', 'C:\\\\Users\\\\Regine\\\\AppData\\\\Roaming\\\\Python\\\\Python39\\\\site-packages\\\\win32', 'C:\\\\Users\\\\Regine\\\\AppData\\\\Roaming\\\\Python\\\\Python39\\\\site-packages\\\\win32\\\\lib', 'C:\\\\Users\\\\Regine\\\\AppData\\\\Roaming\\\\Python\\\\Python39\\\\site-packages\\\\Pythonwin', 'C:\\\\Users\\\\Regine\\\\AppData\\\\Local\\\\Programs\\\\Python\\\\Python39\\\\lib\\\\site-packages', 'C:\\\\Users\\\\Regine\\\\AppData\\\\Roaming\\\\Python\\\\Python39\\\\site-packages\\\\IPython\\\\extensions', 'C:\\\\Users\\\\Regine\\\\.ipython']\n"
     ]
    }
   ],
   "source": [
    "import os\n",
    "os.environ[\"PATH\"] += os.pathsep + \"C:\\\\Program Files\\\\Graphviz\\\\bin\\\\\"\n",
    "import sys\n",
    "print(sys.path)\n",
    "sys.path.append(\"C:\\\\Program Files\\\\Graphviz\\\\bin\\\\\")"
   ],
   "metadata": {
    "collapsed": false,
    "pycharm": {
     "name": "#%%\n"
    }
   }
  },
  {
   "cell_type": "code",
   "execution_count": 22,
   "outputs": [],
   "source": [
    "import tensorflow.python.keras as keras\n",
    "# from keras.utils import plot_model\n",
    "# plot_model(model, to_file='model.png')\n",
    "\n",
    "from tensorflow.keras.callbacks import ModelCheckpoint\n",
    "model_filename = 'segm_model_v0.h5'\n",
    "callback_checkpoint = ModelCheckpoint(model_filename)"
   ],
   "metadata": {
    "collapsed": false,
    "pycharm": {
     "name": "#%%\n"
    }
   }
  },
  {
   "cell_type": "markdown",
   "source": [
    "## Compile + train"
   ],
   "metadata": {
    "collapsed": false
   }
  },
  {
   "cell_type": "code",
   "execution_count": 23,
   "outputs": [],
   "source": [
    "#import keras as keras\n",
    "import tensorflow as tf\n",
    "import tensorflow.python.keras as keras\n",
    "from tensorflow.python.keras.optimizer_v2.adam import Adam\n",
    "from tensorflow.python.keras.optimizer_v2.gradient_descent import SGD\n",
    "#from keras.optimizers import Adam, SGD\n",
    "from keras_unet.metrics import iou, iou_thresholded\n",
    "from models_graph.losses import loss_node_positions\n",
    "from models_graph.losses import loss_adjacency\n",
    "# model.compile(\n",
    "#      optimizer=keras.optimizers.RMSprop(1e-3),\n",
    "#      loss={\n",
    "#          \"pixel_position_of_nodes\": loss_node_positions,\n",
    "#          \"adjacency_matrix\":  loss_adjacency,\n",
    "#      },\n",
    "#      loss_weights=[1.0, 1.0],\n",
    "#  )"
   ],
   "metadata": {
    "collapsed": false,
    "pycharm": {
     "name": "#%%\n"
    }
   }
  },
  {
   "cell_type": "code",
   "execution_count": 24,
   "outputs": [
    {
     "data": {
      "text/plain": "[<KerasTensor: shape=(None, 256) dtype=float32 (created by layer 'pixel_position_of_nodes')>,\n <KerasTensor: shape=(None, 8128) dtype=float32 (created by layer 'adjacency_matrix')>]"
     },
     "execution_count": 24,
     "metadata": {},
     "output_type": "execute_result"
    }
   ],
   "source": [
    "# Load the TensorBoard notebook extension\n",
    "%load_ext tensorboard\n",
    "import tensorflow as tf\n",
    "import datetime\n",
    "\n",
    "model.compile(\n",
    "   optimizer=tf.keras.optimizers.RMSprop(1e-3),\n",
    "   loss={\n",
    "       \"pixel_position_of_nodes\": keras.losses.MeanSquaredError(),\n",
    "       \"adjacency_matrix\":   keras.losses.BinaryCrossentropy(),\n",
    "   },\n",
    "   loss_weights=[0.8, 1.0],\n",
    ")\n",
    "#print('done')\n",
    "model.output"
   ],
   "metadata": {
    "collapsed": false,
    "pycharm": {
     "name": "#%% TensoBoard\n"
    }
   }
  },
  {
   "cell_type": "code",
   "execution_count": null,
   "outputs": [
    {
     "name": "stdout",
     "output_type": "stream",
     "text": [
      "(9, 8128)\n",
      "(9, 256)\n",
      "(1, 256)\n",
      "(1, 8128)\n",
      "Epoch 1/10\n",
      "9/9 [==============================] - 93s 10s/step - loss: 2181806.5000 - pixel_position_of_nodes_loss: 2727255.0000 - adjacency_matrix_loss: 2.4412 - val_loss: 27982.0898 - val_pixel_position_of_nodes_loss: 34976.5938 - val_adjacency_matrix_loss: 0.8141\b\b\b\b\b\b\b\b\b\b\b\b\b\b\b\b\b\b\b\b\b\b\b\b\b\b\b\b\b\b\b\b\b\b\b\b\b\b\b\b\b\b\b\b\b\b\b\b\b\b\b\b\b\b\b\b\b\b\b\b\b\b\b\b\b\b\b\b\b\b\b\b\b\b\b\b\b\b\b\b\b\b\b\b\b\b\b\b\b\b\b\b\b\b\b\b\b\b\b\b\b\b\b\b\b\b\b\b\b\b\b\b\b\b\b\b\b\b\b\b\b\b\b\b\b\b\b\b\b\b\b\b\b\b\b\b\b\b\b\b\b\b\b\b\b\b\b\b\b\b\b\b\b\b\b\b\b\b\b\b\b\b\b\b\b\b\b\b\b\b\b\b\b\b\b\b\b\b\b\b\b\b\b\b\b\b\b\b\b\b\b\b\b\b\b\b\b\b\b\b\b\b\b\b\b\b\b\b\b\b\b\b\b\b\b\b\b\b\b\b\b\b\b\b\b\b\b\b\b\b\b\b\b\b\b\b\b\b\b\b\b\b\b\b\b\b\b\b\b\b\b\b\b\b\b\b\b\b\b\b\b\b\b\b\b\b\b\b\b\b\b\b\b\b\b\b\b\b\b\b\b\b\b\b\b\b\b\b\b\b\b\b\b\b\b\b\b\b\b\b\b\b\b\b\b\b\b\b\b\b\b\b\b\b\b\b\b\b\b\b\b\b\b\b\b\b\b\b\b\b\b\b\b\b\b\b\b\b\b\b\b\b\b\b\b\b\b\b\b\b\b\b\b\b\b\b\b\b\b\b\b\b\b\b\b\b\b\b\b\b\b\b\b\b\b\b\b\b\b\b\b\b\b\b\b\b\b\b\b\b\b\b\b\b\b\b\b\b\b\b\b\b\b\b\b\b\b\b\b\b\b\b\b\b\b\b\b\b\b\b\b\b\b\b\b\b\b\b\b\b\b\b\b\b\b\b\b\b\b\b\b\b\b\b\b\b\b\b\b\b\b\b\b\b\b\b\b\b\b\b\b\b\b\b\b\b\b\b\b\b\b\b\b\b\b\b\b\b\b\b\b\b\b\b\b\b\b\b\b\b\b\b\b\b\b\b\b\b\b\b\b\b\b\b\b\b\b\b\b\b\b\b\b\b\b\b\b\b\b\b\b\b\b\b\b\b\b\b\b\b\b\b\b\b\b\b\b\b\b\b\b\b\b\b\b\b\b\b\b\b\b\b\b\b\b\b\b\b\b\b\b\b\b\b\b\b\b\b\b\b\b\b\b\b\b\b\b\b\b\b\b\b\b\b\b\b\b\b\b\b\b\b\b\b\b\b\b\b\b\b\b\b\b\b\b\b\b\b\b\b\b\b\b\b\b\b\b\b\b\b\b\b\b\b\b\b\b\b\b\b\b\b\b\b\b\b\b\b\b\b\b\b\b\b\b\b\b\b\b\b\b\b\b\b\b\b\b\b\b\b\b\b\b\b\b\b\b\b\b\b\b\b\b\b\b\b\b\b\b\b\b\b\b\b\b\b\b\b\b\b\b\b\b\b\b\b\b\b\b\b\b\b\b\b\b\b\b\b\b\b\b\b\b\b\b\b\b\b\b\b\b\b\b\b\b\b\b\b\b\b\b\b\b\b\b\b\b\b\b\b\b\b\b\b\b\b\b\b\b\b\b\b\b\b\b\b\b\b\b\b\b\b\b\b\b\b\b\b\b\b\b\b\b\b\b\b\b\b\b\b\b\b\b\b\b\b\b\b\b\b\b\b\b\b\b\b\b\b\b\b\b\b\b\b\b\b\b\b\b\b\b\b\b\b\b\b\b\b\b\b\b\b\b\b\b\b\b\b\b\b\b\b\b\b\b\b\b\b\b\b\b\b\b\b\b\b\b\b\b\b\b\b\b\b\b\b\b\b\b\b\b\b\b\b\b\b\b\b\b\b\b\b\b\b\b\b\b\b\b\b\b\b\b\b\b\b\b\b\b\b\b\b\b\b\b\b\b\b\b\b\b\b\b\b\b\b\b\b\b\b\b\b\b\b\b\b\b\b\b\b\b\b\b\b\b\b\b\b\b\b\b\b\b\b\b\b\b\b\b\b\b\b\b\b\b\b\b\b\b\b\b\b\b\b\b\b\b\b\b\b\b\b\b\b\b\b\b\b\b\b\b\b\b\b\b\b\b\b\b\b\b\b\b\b\b\b\b\b\b\b\b\b\b\b\b\b\b\b\b\b\b\b\b\b\b\b\b\b\b\b\b\b\b\b\b\b\b\b\b\b\b\b\b\b\b\b\b\b\b\b\b\b\b\b\b\b\b\b\b\b\b\b\b\b\b\b\b\b\b\b\b\b\b\b\b\b\b\b\b\b\b\b\b\b\b\b\b\b\b\b\b\b\b\b\b\b\b\b\b\b\b\b\b\b\b\b\b\b\b\b\b\b\b\b\b\b\b\b\b\b\b\b\b\b\b\b\b\b\b\b\b\b\b\b\b\b\b\b\b\b\b\b\b\b\b\b\b\b\b\b\b\b\b\b\b\b\b\b\b\b\b\b\b\b\b\b\b\b\b\b\b\b\b\b\b\b\b\b\b\b\b\b\b\b\b\b\b\b\b\b\b\b\b\b\b\b\b\b\b\b\b\b\b\b\b\b\b\b\b\b\n",
      "Epoch 2/10\n",
      "9/9 [==============================] - 70s 8s/step - loss: 26184.0820 - pixel_position_of_nodes_loss: 32728.7012 - adjacency_matrix_loss: 1.1198 - val_loss: 28394.1191 - val_pixel_position_of_nodes_loss: 35491.8125 - val_adjacency_matrix_loss: 0.6686\b\b\b\b\b\b\b\b\b\b\b\b\b\b\b\b\b\b\b\b\b\b\b\b\b\b\b\b\b\b\b\b\b\b\b\b\b\b\b\b\b\b\b\b\b\b\b\b\b\b\b\b\b\b\b\b\b\b\b\b\b\b\b\b\b\b\b\b\b\b\b\b\b\b\b\b\b\b\b\b\b\b\b\b\b\b\b\b\b\b\b\b\b\b\b\b\b\b\b\b\b\b\b\b\b\b\b\b\b\b\b\b\b\b\b\b\b\b\b\b\b\b\b\b\b\b\b\b\b\b\b\b\b\b\b\b\b\b\b\b\b\b\b\b\b\b\b\b\b\b\b\b\b\b\b\b\b\b\b\b\b\b\b\b\b\b\b\b\b\b\b\b\b\b\b\b\b\b\b\b\b\b\b\b\b\b\b\b\b\b\b\b\b\b\b\b\b\b\b\b\b\b\b\b\b\b\b\b\b\b\b\b\b\b\b\b\b\b\b\b\b\b\b\b\b\b\b\b\b\b\b\b\b\b\b\b\b\b\b\b\b\b\b\b\b\b\b\b\b\b\b\b\b\b\b\b\b\b\b\b\b\b\b\b\b\b\b\b\b\b\b\b\b\b\b\b\b\b\b\b\b\b\b\b\b\b\b\b\b\b\b\b\b\b\b\b\b\b\b\b\b\b\b\b\b\b\b\b\b\b\b\b\b\b\b\b\b\b\b\b\b\b\b\b\b\b\b\b\b\b\b\b\b\b\b\b\b\b\b\b\b\b\b\b\b\b\b\b\b\b\b\b\b\b\b\b\b\b\b\b\b\b\b\b\b\b\b\b\b\b\b\b\b\b\b\b\b\b\b\b\b\b\b\b\b\b\b\b\b\b\b\b\b\b\b\b\b\b\b\b\b\b\b\b\b\b\b\b\b\b\b\b\b\b\b\b\b\b\b\b\b\b\b\b\b\b\b\b\b\b\b\b\b\b\b\b\b\b\b\b\b\b\b\b\b\b\b\b\b\b\b\b\b\b\b\b\b\b\b\b\b\b\b\b\b\b\b\b\b\b\b\b\b\b\b\b\b\b\b\b\b\b\b\b\b\b\b\b\b\b\b\b\b\b\b\b\b\b\b\b\b\b\b\b\b\b\b\b\b\b\b\b\b\b\b\b\b\b\b\b\b\b\b\b\b\b\b\b\b\b\b\b\b\b\b\b\b\b\b\b\b\b\b\b\b\b\b\b\b\b\b\b\b\b\b\b\b\b\b\b\b\b\b\b\b\b\b\b\b\b\b\b\b\b\b\b\b\b\b\b\b\b\b\b\b\b\b\b\b\b\b\b\b\b\b\b\b\b\b\b\b\b\b\b\b\b\b\b\b\b\b\b\b\b\b\b\b\b\b\b\b\b\b\b\b\b\b\b\b\b\b\b\b\b\b\b\b\b\b\b\b\b\b\b\b\b\b\b\b\b\b\b\b\b\b\b\b\b\b\b\b\b\b\b\b\b\b\b\b\b\b\b\b\b\b\b\b\b\b\b\b\b\b\b\b\b\b\b\b\b\b\b\b\b\b\b\b\b\b\b\b\b\b\b\b\b\b\b\b\b\b\b\b\b\b\b\b\b\b\b\b\b\b\b\b\b\b\b\b\b\b\b\b\b\b\b\b\b\b\b\b\b\b\b\b\b\b\b\b\b\b\b\b\b\b\b\b\b\b\b\b\b\b\b\b\b\b\b\b\b\b\b\b\b\b\b\b\b\b\b\b\b\b\b\b\b\b\b\b\b\b\b\b\b\b\b\b\b\b\b\b\b\b\b\b\b\b\b\b\b\b\b\b\b\b\b\b\b\b\b\b\b\b\b\b\b\b\b\b\b\b\b\b\b\b\b\b\b\b\b\b\b\b\b\b\b\b\b\b\b\b\b\b\b\b\b\b\b\b\b\b\b\b\b\b\b\b\b\b\b\b\b\b\b\b\b\b\b\b\b\b\b\b\b\b\b\b\b\b\b\b\b\b\b\b\b\b\b\b\b\b\b\b\b\b\b\b\b\b\b\b\b\b\b\b\b\b\b\b\b\b\b\b\b\b\b\b\b\b\b\b\b\b\b\b\b\b\b\b\b\b\b\b\b\b\b\b\b\b\b\b\b\b\b\b\b\b\b\b\b\b\b\b\b\b\b\b\b\b\b\b\b\b\b\b\b\b\b\b\b\b\b\b\b\b\b\b\b\b\b\b\b\b\b\b\b\b\b\b\b\b\b\b\b\b\b\b\b\b\b\b\b\b\b\b\b\b\b\b\b\b\b\b\b\b\b\b\b\b\b\b\b\b\b\b\b\b\b\b\b\b\b\b\b\b\b\b\b\b\b\b\b\b\b\b\b\b\b\b\b\b\b\b\b\b\b\b\b\b\b\b\b\b\b\b\b\b\b\b\b\b\b\b\b\b\b\b\b\b\b\b\b\b\b\b\b\b\b\b\b\b\b\b\b\b\b\b\b\b\b\b\b\b\b\b\b\b\b\b\b\b\b\b\b\b\b\b\b\b\b\b\b\b\b\b\b\b\b\b\b\b\b\b\b\b\b\b\b\b\b\b\b\b\b\b\b\b\b\b\b\n",
      "Epoch 3/10\n",
      "9/9 [==============================] - 72s 8s/step - loss: 24105.1895 - pixel_position_of_nodes_loss: 30130.3027 - adjacency_matrix_loss: 0.9489 - val_loss: 24993.2891 - val_pixel_position_of_nodes_loss: 31240.2578 - val_adjacency_matrix_loss: 1.0816\b\b\b\b\b\b\b\b\b\b\b\b\b\b\b\b\b\b\b\b\b\b\b\b\b\b\b\b\b\b\b\b\b\b\b\b\b\b\b\b\b\b\b\b\b\b\b\b\b\b\b\b\b\b\b\b\b\b\b\b\b\b\b\b\b\b\b\b\b\b\b\b\b\b\b\b\b\b\b\b\b\b\b\b\b\b\b\b\b\b\b\b\b\b\b\b\b\b\b\b\b\b\b\b\b\b\b\b\b\b\b\b\b\b\b\b\b\b\b\b\b\b\b\b\b\b\b\b\b\b\b\b\b\b\b\b\b\b\b\b\b\b\b\b\b\b\b\b\b\b\b\b\b\b\b\b\b\b\b\b\b\b\b\b\b\b\b\b\b\b\b\b\b\b\b\b\b\b\b\b\b\b\b\b\b\b\b\b\b\b\b\b\b\b\b\b\b\b\b\b\b\b\b\b\b\b\b\b\b\b\b\b\b\b\b\b\b\b\b\b\b\b\b\b\b\b\b\b\b\b\b\b\b\b\b\b\b\b\b\b\b\b\b\b\b\b\b\b\b\b\b\b\b\b\b\b\b\b\b\b\b\b\b\b\b\b\b\b\b\b\b\b\b\b\b\b\b\b\b\b\b\b\b\b\b\b\b\b\b\b\b\b\b\b\b\b\b\b\b\b\b\b\b\b\b\b\b\b\b\b\b\b\b\b\b\b\b\b\b\b\b\b\b\b\b\b\b\b\b\b\b\b\b\b\b\b\b\b\b\b\b\b\b\b\b\b\b\b\b\b\b\b\b\b\b\b\b\b\b\b\b\b\b\b\b\b\b\b\b\b\b\b\b\b\b\b\b\b\b\b\b\b\b\b\b\b\b\b\b\b\b\b\b\b\b\b\b\b\b\b\b\b\b\b\b\b\b\b\b\b\b\b\b\b\b\b\b\b\b\b\b\b\b\b\b\b\b\b\b\b\b\b\b\b\b\b\b\b\b\b\b\b\b\b\b\b\b\b\b\b\b\b\b\b\b\b\b\b\b\b\b\b\b\b\b\b\b\b\b\b\b\b\b\b\b\b\b\b\b\b\b\b\b\b\b\b\b\b\b\b\b\b\b\b\b\b\b\b\b\b\b\b\b\b\b\b\b\b\b\b\b\b\b\b\b\b\b\b\b\b\b\b\b\b\b\b\b\b\b\b\b\b\b\b\b\b\b\b\b\b\b\b\b\b\b\b\b\b\b\b\b\b\b\b\b\b\b\b\b\b\b\b\b\b\b\b\b\b\b\b\b\b\b\b\b\b\b\b\b\b\b\b\b\b\b\b\b\b\b\b\b\b\b\b\b\b\b\b\b\b\b\b\b\b\b\b\b\b\b\b\b\b\b\b\b\b\b\b\b\b\b\b\b\b\b\b\b\b\b\b\b\b\b\b\b\b\b\b\b\b\b\b\b\b\b\b\b\b\b\b\b\b\b\b\b\b\b\b\b\b\b\b\b\b\b\b\b\b\b\b\b\b\b\b\b\b\b\b\b\b\b\b\b\b\b\b\b\b\b\b\b\b\b\b\b\b\b\b\b\b\b\b\b\b\b\b\b\b\b\b\b\b\b\b\b\b\b\b\b\b\b\b\b\b\b\b\b\b\b\b\b\b\b\b\b\b\b\b\b\b\b\b\b\b\b\b\b\b\b\b\b\b\b\b\b\b\b\b\b\b\b\b\b\b\b\b\b\b\b\b\b\b\b\b\b\b\b\b\b\b\b\b\b\b\b\b\b\b\b\b\b\b\b\b\b\b\b\b\b\b\b\b\b\b\b\b\b\b\b\b\b\b\b\b\b\b\b\b\b\b\b\b\b\b\b\b\b\b\b\b\b\b\b\b\b\b\b\b\b\b\b\b\b\b\b\b\b\b\b\b\b\b\b\b\b\b\b\b\b\b\b\b\b\b\b\b\b\b\b\b\b\b\b\b\b\b\b\b\b\b\b\b\b\b\b\b\b\b\b\b\b\b\b\b\b\b\b\b\b\b\b\b\b\b\b\b\b\b\b\b\b\b\b\b\b\b\b\b\b\b\b\b\b\b\b\b\b\b\b\b\b\b\b\b\b\b\b\b\b\b\b\b\b\b\b\b\b\b\b\b\b\b\b\b\b\b\b\b\b\b\b\b\b\b\b\b\b\b\b\b\b\b\b\b\b\b\b\b\b\b\b\b\b\b\b\b\b\b\b\b\b\b\b\b\b\b\b\b\b\b\b\b\b\b\b\b\b\b\b\b\b\b\b\b\b\b\b\b\b\b\b\b\b\b\b\b\b\b\b\b\b\b\b\b\b\b\b\b\b\b\b\b\b\b\b\b\b\b\b\b\b\b\b\b\b\b\b\b\b\b\b\b\b\b\b\b\b\b\b\b\b\b\b\b\b\b\b\b\b\b\b\b\b\b\b\b\b\b\b\b\b\b\b\b\b\b\b\b\b\b\b\b\b\b\b\b\b\b\b\b\b\b\b\b\b\b\b\b\b\b\b\b\b\b\b\b\b\b\b\b\b\b\b\b\b\b\b\b\b\b\b\b\b\b\b\b\b\b\b\b\b\b\b\b\b\b\b\b\b\b\n",
      "Epoch 4/10\n",
      "9/9 [==============================] - 72s 8s/step - loss: 14339.7246 - pixel_position_of_nodes_loss: 17923.3066 - adjacency_matrix_loss: 1.0795 - val_loss: 15418.5215 - val_pixel_position_of_nodes_loss: 19271.7656 - val_adjacency_matrix_loss: 1.1082\b\b\b\b\b\b\b\b\b\b\b\b\b\b\b\b\b\b\b\b\b\b\b\b\b\b\b\b\b\b\b\b\b\b\b\b\b\b\b\b\b\b\b\b\b\b\b\b\b\b\b\b\b\b\b\b\b\b\b\b\b\b\b\b\b\b\b\b\b\b\b\b\b\b\b\b\b\b\b\b\b\b\b\b\b\b\b\b\b\b\b\b\b\b\b\b\b\b\b\b\b\b\b\b\b\b\b\b\b\b\b\b\b\b\b\b\b\b\b\b\b\b\b\b\b\b\b\b\b\b\b\b\b\b\b\b\b\b\b\b\b\b\b\b\b\b\b\b\b\b\b\b\b\b\b\b\b\b\b\b\b\b\b\b\b\b\b\b\b\b\b\b\b\b\b\b\b\b\b\b\b\b\b\b\b\b\b\b\b\b\b\b\b\b\b\b\b\b\b\b\b\b\b\b\b\b\b\b\b\b\b\b\b\b\b\b\b\b\b\b\b\b\b\b\b\b\b\b\b\b\b\b\b\b\b\b\b\b\b\b\b\b\b\b\b\b\b\b\b\b\b\b\b\b\b\b\b\b\b\b\b\b\b\b\b\b\b\b\b\b\b\b\b\b\b\b\b\b\b\b\b\b\b\b\b\b\b\b\b\b\b\b\b\b\b\b\b\b\b\b\b\b\b\b\b\b\b\b\b\b\b\b\b\b\b\b\b\b\b\b\b\b\b\b\b\b\b\b\b\b\b\b\b\b\b\b\b\b\b\b\b\b\b\b\b\b\b\b\b\b\b\b\b\b\b\b\b\b\b\b\b\b\b\b\b\b\b\b\b\b\b\b\b\b\b\b\b\b\b\b\b\b\b\b\b\b\b\b\b\b\b\b\b\b\b\b\b\b\b\b\b\b\b\b\b\b\b\b\b\b\b\b\b\b\b\b\b\b\b\b\b\b\b\b\b\b\b\b\b\b\b\b\b\b\b\b\b\b\b\b\b\b\b\b\b\b\b\b\b\b\b\b\b\b\b\b\b\b\b\b\b\b\b\b\b\b\b\b\b\b\b\b\b\b\b\b\b\b\b\b\b\b\b\b\b\b\b\b\b\b\b\b\b\b\b\b\b\b\b\b\b\b\b\b\b\b\b\b\b\b\b\b\b\b\b\b\b\b\b\b\b\b\b\b\b\b\b\b\b\b\b\b\b\b\b\b\b\b\b\b\b\b\b\b\b\b\b\b\b\b\b\b\b\b\b\b\b\b\b\b\b\b\b\b\b\b\b\b\b\b\b\b\b\b\b\b\b\b\b\b\b\b\b\b\b\b\b\b\b\b\b\b\b\b\b\b\b\b\b\b\b\b\b\b\b\b\b\b\b\b\b\b\b\b\b\b\b\b\b\b\b\b\b\b\b\b\b\b\b\b\b\b\b\b\b\b\b\b\b\b\b\b\b\b\b\b\b\b\b\b\b\b\b\b\b\b\b\b\b\b\b\b\b\b\b\b\b\b\b\b\b\b\b\b\b\b\b\b\b\b\b\b\b\b\b\b\b\b\b\b\b\b\b\b\b\b\b\b\b\b\b\b\b\b\b\b\b\b\b\b\b\b\b\b\b\b\b\b\b\b\b\b\b\b\b\b\b\b\b\b\b\b\b\b\b\b\b\b\b\b\b\b\b\b\b\b\b\b\b\b\b\b\b\b\b\b\b\b\b\b\b\b\b\b\b\b\b\b\b\b\b\b\b\b\b\b\b\b\b\b\b\b\b\b\b\b\b\b\b\b\b\b\b\b\b\b\b\b\b\b\b\b\b\b\b\b\b\b\b\b\b\b\b\b\b\b\b\b\b\b\b\b\b\b\b\b\b\b\b\b\b\b\b\b\b\b\b\b\b\b\b\b\b\b\b\b\b\b\b\b\b\b\b\b\b\b\b\b\b\b\b\b\b\b\b\b\b\b\b\b\b\b\b\b\b\b\b\b\b\b\b\b\b\b\b\b\b\b\b\b\b\b\b\b\b\b\b\b\b\b\b\b\b\b\b\b\b\b\b\b\b\b\b\b\b\b\b\b\b\b\b\b\b\b\b\b\b\b\b\b\b\b\b\b\b\b\b\b\b\b\b\b\b\b\b\b\b\b\b\b\b\b\b\b\b\b\b\b\b\b\b\b\b\b\b\b\b\b\b\b\b\b\b\b\b\b\b\b\b\b\b\b\b\b\b\b\b\b\b\b\b\b\b\b\b\b\b\b\b\b\b\b\b\b\b\b\b\b\b\b\b\b\b\b\b\b\b\b\b\b\b\b\b\b\b\b\b\b\b\b\b\b\b\b\b\b\b\b\b\b\b\b\b\b\b\b\b\b\b\b\b\b\b\b\b\b\b\b\b\b\b\b\b\b\b\b\b\b\b\b\b\b\b\b\b\b\b\b\b\b\b\b\b\b\b\b\b\b\b\b\b\b\b\b\b\b\b\b\b\b\b\b\b\b\b\b\b\b\b\b\b\b\b\b\b\b\b\b\b\b\b\b\b\b\b\b\b\b\b\b\b\b\b\b\b\b\b\b\b\b\b\b\b\b\b\b\b\b\b\b\b\b\b\b\b\b\b\b\b\b\n",
      "Epoch 5/10\n",
      "9/9 [==============================] - 69s 8s/step - loss: 9470.4258 - pixel_position_of_nodes_loss: 11836.7119 - adjacency_matrix_loss: 1.0559 - val_loss: 18786.0996 - val_pixel_position_of_nodes_loss: 23481.3438 - val_adjacency_matrix_loss: 1.0227\b\b\b\b\b\b\b\b\b\b\b\b\b\b\b\b\b\b\b\b\b\b\b\b\b\b\b\b\b\b\b\b\b\b\b\b\b\b\b\b\b\b\b\b\b\b\b\b\b\b\b\b\b\b\b\b\b\b\b\b\b\b\b\b\b\b\b\b\b\b\b\b\b\b\b\b\b\b\b\b\b\b\b\b\b\b\b\b\b\b\b\b\b\b\b\b\b\b\b\b\b\b\b\b\b\b\b\b\b\b\b\b\b\b\b\b\b\b\b\b\b\b\b\b\b\b\b\b\b\b\b\b\b\b\b\b\b\b\b\b\b\b\b\b\b\b\b\b\b\b\b\b\b\b\b\b\b\b\b\b\b\b\b\b\b\b\b\b\b\b\b\b\b\b\b\b\b\b\b\b\b\b\b\b\b\b\b\b\b\b\b\b\b\b\b\b\b\b\b\b\b\b\b\b\b\b\b\b\b\b\b\b\b\b\b\b\b\b\b\b\b\b\b\b\b\b\b\b\b\b\b\b\b\b\b\b\b\b\b\b\b\b\b\b\b\b\b\b\b\b\b\b\b\b\b\b\b\b\b\b\b\b\b\b\b\b\b\b\b\b\b\b\b\b\b\b\b\b\b\b\b\b\b\b\b\b\b\b\b\b\b\b\b\b\b\b\b\b\b\b\b\b\b\b\b\b\b\b\b\b\b\b\b\b\b\b\b\b\b\b\b\b\b\b\b\b\b\b\b\b\b\b\b\b\b\b\b\b\b\b\b\b\b\b\b\b\b\b\b\b\b\b\b\b\b\b\b\b\b\b\b\b\b\b\b\b\b\b\b\b\b\b\b\b\b\b\b\b\b\b\b\b\b\b\b\b\b\b\b\b\b\b\b\b\b\b\b\b\b\b\b\b\b\b\b\b\b\b\b\b\b\b\b\b\b\b\b\b\b\b\b\b\b\b\b\b\b\b\b\b\b\b\b\b\b\b\b\b\b\b\b\b\b\b\b\b\b\b\b\b\b\b\b\b\b\b\b\b\b\b\b\b\b\b\b\b\b\b\b\b\b\b\b\b\b\b\b\b\b\b\b\b\b\b\b\b\b\b\b\b\b\b\b\b\b\b\b\b\b\b\b\b\b\b\b\b\b\b\b\b\b\b\b\b\b\b\b\b\b\b\b\b\b\b\b\b\b\b\b\b\b\b\b\b\b\b\b\b\b\b\b\b\b\b\b\b\b\b\b\b\b\b\b\b\b\b\b\b\b\b\b\b\b\b\b\b\b\b\b\b\b\b\b\b\b\b\b\b\b\b\b\b\b\b\b\b\b\b\b\b\b\b\b\b\b\b\b\b\b\b\b\b\b\b\b\b\b\b\b\b\b\b\b\b\b\b\b\b\b\b\b\b\b\b\b\b\b\b\b\b\b\b\b\b\b\b\b\b\b\b\b\b\b\b\b\b\b\b\b\b\b\b\b\b\b\b\b\b\b\b\b\b\b\b\b\b\b\b\b\b\b\b\b\b\b\b\b\b\b\b\b\b\b\b\b\b\b\b\b\b\b\b\b\b\b\b\b\b\b\b\b\b\b\b\b\b\b\b\b\b\b\b\b\b\b\b\b\b\b\b\b\b\b\b\b\b\b\b\b\b\b\b\b\b\b\b\b\b\b\b\b\b\b\b\b\b\b\b\b\b\b\b\b\b\b\b\b\b\b\b\b\b\b\b\b\b\b\b\b\b\b\b\b\b\b\b\b\b\b\b\b\b\b\b\b\b\b\b\b\b\b\b\b\b\b\b\b\b\b\b\b\b\b\b\b\b\b\b\b\b\b\b\b\b\b\b\b\b\b\b\b\b\b\b\b\b\b\b\b\b\b\b\b\b\b\b\b\b\b\b\b\b\b\b\b\b\b\b\b\b\b\b\b\b\b\b\b\b\b\b\b\b\b\b\b\b\b\b\b\b\b\b\b\b\b\b\b\b\b\b\b\b\b\b\b\b\b\b\b\b\b\b\b\b\b\b\b\b\b\b\b\b\b\b\b\b\b\b\b\b\b\b\b\b\b\b\b\b\b\b\b\b\b\b\b\b\b\b\b\b\b\b\b\b\b\b\b\b\b\b\b\b\b\b\b\b\b\b\b\b\b\b\b\b\b\b\b\b\b\b\b\b\b\b\b\b\b\b\b\b\b\b\b\b\b\b\b\b\b\b\b\b\b\b\b\b\b\b\b\b\b\b\b\b\b\b\b\b\b\b\b\b\b\b\b\b\b\b\b\b\b\b\b\b\b\b\b\b\b\b\b\b\b\b\b\b\b\b\b\b\b\b\b\b\b\b\b\b\b\b\b\b\b\b\b\b\b\b\b\b\b\b\b\b\b\b\b\b\b\b\b\b\b\b\b\b\b\b\b\b\b\b\b\b\b\b\b\b\b\b\b\b\b\b\b\b\b\b\b\b\b\b\b\b\b\b\b\b\b\b\b\b\b\b\b\b\b\b\b\b\b\b\b\b\b\b\b\b\b\b\b\b\b\b\b\b\b\b\b\b\b\b\b\b\b\b\b\b\b\b\b\b\b\b\b\b\b\b\b\b\b\n",
      "Epoch 6/10\n",
      "9/9 [==============================] - 72s 8s/step - loss: 12101.7363 - pixel_position_of_nodes_loss: 15125.8682 - adjacency_matrix_loss: 1.0425 - val_loss: 15392.0127 - val_pixel_position_of_nodes_loss: 19238.8262 - val_adjacency_matrix_loss: 0.9511\b\b\b\b\b\b\b\b\b\b\b\b\b\b\b\b\b\b\b\b\b\b\b\b\b\b\b\b\b\b\b\b\b\b\b\b\b\b\b\b\b\b\b\b\b\b\b\b\b\b\b\b\b\b\b\b\b\b\b\b\b\b\b\b\b\b\b\b\b\b\b\b\b\b\b\b\b\b\b\b\b\b\b\b\b\b\b\b\b\b\b\b\b\b\b\b\b\b\b\b\b\b\b\b\b\b\b\b\b\b\b\b\b\b\b\b\b\b\b\b\b\b\b\b\b\b\b\b\b\b\b\b\b\b\b\b\b\b\b\b\b\b\b\b\b\b\b\b\b\b\b\b\b\b\b\b\b\b\b\b\b\b\b\b\b\b\b\b\b\b\b\b\b\b\b\b\b\b\b\b\b\b\b\b\b\b\b\b\b\b\b\b\b\b\b\b\b\b\b\b\b\b\b\b\b\b\b\b\b\b\b\b\b\b\b\b\b\b\b\b\b\b\b\b\b\b\b\b\b\b\b\b\b\b\b\b\b\b\b\b\b\b\b\b\b\b\b\b\b\b\b\b\b\b\b\b\b\b\b\b\b\b\b\b\b\b\b\b\b\b\b\b\b\b\b\b\b\b\b\b\b\b\b\b\b\b\b\b\b\b\b\b\b\b\b\b\b\b\b\b\b\b\b\b\b\b\b\b\b\b\b\b\b\b\b\b\b\b\b\b\b\b\b\b\b\b\b\b\b\b\b\b\b\b\b\b\b\b\b\b\b\b\b\b\b\b\b\b\b\b\b\b\b\b\b\b\b\b\b\b\b\b\b\b\b\b\b\b\b\b\b\b\b\b\b\b\b\b\b\b\b\b\b\b\b\b\b\b\b\b\b\b\b\b\b\b\b\b\b\b\b\b\b\b\b\b\b\b\b\b\b\b\b\b\b\b\b\b\b\b\b\b\b\b\b\b\b\b\b\b\b\b\b\b\b\b\b\b\b\b\b\b\b\b\b\b\b\b\b\b\b\b\b\b\b\b\b\b\b\b\b\b\b\b\b\b\b\b\b\b\b\b\b\b\b\b\b\b\b\b\b\b\b\b\b\b\b\b\b\b\b\b\b\b\b\b\b\b\b\b\b\b\b\b\b\b\b\b\b\b\b\b\b\b\b\b\b\b\b\b\b\b\b\b\b\b\b\b\b\b\b\b\b\b\b\b\b\b\b\b\b\b\b\b\b\b\b\b\b\b\b\b\b\b\b\b\b\b\b\b\b\b\b\b\b\b\b\b\b\b\b\b\b\b\b\b\b\b\b\b\b\b\b\b\b\b\b\b\b\b\b\b\b\b\b\b\b\b\b\b\b\b\b\b\b\b\b\b\b\b\b\b\b\b\b\b\b\b\b\b\b\b\b\b\b\b\b\b\b\b\b\b\b\b\b\b\b\b\b\b\b\b\b\b\b\b\b\b\b\b\b\b\b\b\b\b\b\b\b\b\b\b\b\b\b\b\b\b\b\b\b\b\b\b\b\b\b\b\b\b\b\b\b\b\b\b\b\b\b\b\b\b\b\b\b\b\b\b\b\b\b\b\b\b\b\b\b\b\b\b\b\b\b\b\b\b\b\b\b\b\b\b\b\b\b\b\b\b\b\b\b\b\b\b\b\b\b\b\b\b\b\b\b\b\b\b\b\b\b\b\b\b\b\b\b\b\b\b\b\b\b\b\b\b\b\b\b\b\b\b\b\b\b\b\b\b\b\b\b\b\b\b\b\b\b\b\b\b\b\b\b\b\b\b\b\b\b\b\b\b\b\b\b\b\b\b\b\b\b\b\b\b\b\b\b\b\b\b\b\b\b\b\b\b\b\b\b\b\b\b\b\b\b\b\b\b\b\b\b\b\b\b\b\b\b\b\b\b\b\b\b\b\b\b\b\b\b\b\b\b\b\b\b\b\b\b\b\b\b\b\b\b\b\b\b\b\b\b\b\b\b\b\b\b\b\b\b\b\b\b\b\b\b\b\b\b\b\b\b\b\b\b\b\b\b\b\b\b\b\b\b\b\b\b\b\b\b\b\b\b\b\b\b\b\b\b\b\b\b\b\b\b\b\b\b\b\b\b\b\b\b\b\b\b\b\b\b\b\b\b\b\b\b\b\b\b\b\b\b\b\b\b\b\b\b\b\b\b\b\b\b\b\b\b\b\b\b\b\b\b\b\b\b\b\b\b\b\b\b\b\b\b\b\b\b\b\b\b\b\b\b\b\b\b\b\b\b\b\b\b\b\b\b\b\b\b\b\b\b\b\b\b\b\b\b\b\b\b\b\b\b\b\b\b\b\b\b\b\b\b\b\b\b\b\b\b\b\b\b\b\b\b\b\b\b\b\b\b\b\b\b\b\b\b\b\b\b\b\b\b\b\b\b\b\b\b\b\b\b\b\b\b\b\b\b\b\b\b\b\b\b\b\b\b\b\b\b\b\b\b\b\b\b\b\b\b\b\b\b\b\b\b\b\b\b\b\b\b\b\b\b\b\b\b\b\b\b\b\b\b\b\b\b\b\b\b\b\b\b\b\b\b\b\b\b\b\b\b\b\b\b\b\n",
      "Epoch 7/10\n",
      "9/9 [==============================] - 70s 8s/step - loss: 6428.6216 - pixel_position_of_nodes_loss: 8034.5181 - adjacency_matrix_loss: 1.0065 - val_loss: 22288.4590 - val_pixel_position_of_nodes_loss: 27859.4102 - val_adjacency_matrix_loss: 0.9296\b\b\b\b\b\b\b\b\b\b\b\b\b\b\b\b\b\b\b\b\b\b\b\b\b\b\b\b\b\b\b\b\b\b\b\b\b\b\b\b\b\b\b\b\b\b\b\b\b\b\b\b\b\b\b\b\b\b\b\b\b\b\b\b\b\b\b\b\b\b\b\b\b\b\b\b\b\b\b\b\b\b\b\b\b\b\b\b\b\b\b\b\b\b\b\b\b\b\b\b\b\b\b\b\b\b\b\b\b\b\b\b\b\b\b\b\b\b\b\b\b\b\b\b\b\b\b\b\b\b\b\b\b\b\b\b\b\b\b\b\b\b\b\b\b\b\b\b\b\b\b\b\b\b\b\b\b\b\b\b\b\b\b\b\b\b\b\b\b\b\b\b\b\b\b\b\b\b\b\b\b\b\b\b\b\b\b\b\b\b\b\b\b\b\b\b\b\b\b\b\b\b\b\b\b\b\b\b\b\b\b\b\b\b\b\b\b\b\b\b\b\b\b\b\b\b\b\b\b\b\b\b\b\b\b\b\b\b\b\b\b\b\b\b\b\b\b\b\b\b\b\b\b\b\b\b\b\b\b\b\b\b\b\b\b\b\b\b\b\b\b\b\b\b\b\b\b\b\b\b\b\b\b\b\b\b\b\b\b\b\b\b\b\b\b\b\b\b\b\b\b\b\b\b\b\b\b\b\b\b\b\b\b\b\b\b\b\b\b\b\b\b\b\b\b\b\b\b\b\b\b\b\b\b\b\b\b\b\b\b\b\b\b\b\b\b\b\b\b\b\b\b\b\b\b\b\b\b\b\b\b\b\b\b\b\b\b\b\b\b\b\b\b\b\b\b\b\b\b\b\b\b\b\b\b\b\b\b\b\b\b\b\b\b\b\b\b\b\b\b\b\b\b\b\b\b\b\b\b\b\b\b\b\b\b\b\b\b\b\b\b\b\b\b\b\b\b\b\b\b\b\b\b\b\b\b\b\b\b\b\b\b\b\b\b\b\b\b\b\b\b\b\b\b\b\b\b\b\b\b\b\b\b\b\b\b\b\b\b\b\b\b\b\b\b\b\b\b\b\b\b\b\b\b\b\b\b\b\b\b\b\b\b\b\b\b\b\b\b\b\b\b\b\b\b\b\b\b\b\b\b\b\b\b\b\b\b\b\b\b\b\b\b\b\b\b\b\b\b\b\b\b\b\b\b\b\b\b\b\b\b\b\b\b\b\b\b\b\b\b\b\b\b\b\b\b\b\b\b\b\b\b\b\b\b\b\b\b\b\b\b\b\b\b\b\b\b\b\b\b\b\b\b\b\b\b\b\b\b\b\b\b\b\b\b\b\b\b\b\b\b\b\b\b\b\b\b\b\b\b\b\b\b\b\b\b\b\b\b\b\b\b\b\b\b\b\b\b\b\b\b\b\b\b\b\b\b\b\b\b\b\b\b\b\b\b\b\b\b\b\b\b\b\b\b\b\b\b\b\b\b\b\b\b\b\b\b\b\b\b\b\b\b\b\b\b\b\b\b\b\b\b\b\b\b\b\b\b\b\b\b\b\b\b\b\b\b\b\b\b\b\b\b\b\b\b\b\b\b\b\b\b\b\b\b\b\b\b\b\b\b\b\b\b\b\b\b\b\b\b\b\b\b\b\b\b\b\b\b\b\b\b\b\b\b\b\b\b\b\b\b\b\b\b\b\b\b\b\b\b\b\b\b\b\b\b\b\b\b\b\b\b\b\b\b\b\b\b\b\b\b\b\b\b\b\b\b\b\b\b\b\b\b\b\b\b\b\b\b\b\b\b\b\b\b\b\b\b\b\b\b\b\b\b\b\b\b\b\b\b\b\b\b\b\b\b\b\b\b\b\b\b\b\b\b\b\b\b\b\b\b\b\b\b\b\b\b\b\b\b\b\b\b\b\b\b\b\b\b\b\b\b\b\b\b\b\b\b\b\b\b\b\b\b\b\b\b\b\b\b\b\b\b\b\b\b\b\b\b\b\b\b\b\b\b\b\b\b\b\b\b\b\b\b\b\b\b\b\b\b\b\b\b\b\b\b\b\b\b\b\b\b\b\b\b\b\b\b\b\b\b\b\b\b\b\b\b\b\b\b\b\b\b\b\b\b\b\b\b\b\b\b\b\b\b\b\b\b\b\b\b\b\b\b\b\b\b\b\b\b\b\b\b\b\b\b\b\b\b\b\b\b\b\b\b\b\b\b\b\b\b\b\b\b\b\b\b\b\b\b\b\b\b\b\b\b\b\b\b\b\b\b\b\b\b\b\b\b\b\b\b\b\b\b\b\b\b\b\b\b\b\b\b\b\b\b\b\b\b\b\b\b\b\b\b\b\b\b\b\b\b\b\b\b\b\b\b\b\b\b\b\b\b\b\b\b\b\b\b\b\b\b\b\b\b\b\b\b\b\b\b\b\b\b\b\b\b\b\b\b\b\b\b\b\b\b\b\b\b\b\b\b\b\b\b\b\b\b\b\b\b\b\b\b\b\b\b\b\b\b\b\b\b\b\b\b\b\b\b\b\b\b\b\b\b\b\b\b\b\b\b\b\n",
      "Epoch 8/10\n",
      "9/9 [==============================] - 72s 8s/step - loss: 9762.6572 - pixel_position_of_nodes_loss: 12202.0645 - adjacency_matrix_loss: 1.0056 - val_loss: 16382.6797 - val_pixel_position_of_nodes_loss: 20477.1602 - val_adjacency_matrix_loss: 0.9510\b\b\b\b\b\b\b\b\b\b\b\b\b\b\b\b\b\b\b\b\b\b\b\b\b\b\b\b\b\b\b\b\b\b\b\b\b\b\b\b\b\b\b\b\b\b\b\b\b\b\b\b\b\b\b\b\b\b\b\b\b\b\b\b\b\b\b\b\b\b\b\b\b\b\b\b\b\b\b\b\b\b\b\b\b\b\b\b\b\b\b\b\b\b\b\b\b\b\b\b\b\b\b\b\b\b\b\b\b\b\b\b\b\b\b\b\b\b\b\b\b\b\b\b\b\b\b\b\b\b\b\b\b\b\b\b\b\b\b\b\b\b\b\b\b\b\b\b\b\b\b\b\b\b\b\b\b\b\b\b\b\b\b\b\b\b\b\b\b\b\b\b\b\b\b\b\b\b\b\b\b\b\b\b\b\b\b\b\b\b\b\b\b\b\b\b\b\b\b\b\b\b\b\b\b\b\b\b\b\b\b\b\b\b\b\b\b\b\b\b\b\b\b\b\b\b\b\b\b\b\b\b\b\b\b\b\b\b\b\b\b\b\b\b\b\b\b\b\b\b\b\b\b\b\b\b\b\b\b\b\b\b\b\b\b\b\b\b\b\b\b\b\b\b\b\b\b\b\b\b\b\b\b\b\b\b\b\b\b\b\b\b\b\b\b\b\b\b\b\b\b\b\b\b\b\b\b\b\b\b\b\b\b\b\b\b\b\b\b\b\b\b\b\b\b\b\b\b\b\b\b\b\b\b\b\b\b\b\b\b\b\b\b\b\b\b\b\b\b\b\b\b\b\b\b\b\b\b\b\b\b\b\b\b\b\b\b\b\b\b\b\b\b\b\b\b\b\b\b\b\b\b\b\b\b\b\b\b\b\b\b\b\b\b\b\b\b\b\b\b\b\b\b\b\b\b\b\b\b\b\b\b\b\b\b\b\b\b\b\b\b\b\b\b\b\b\b\b\b\b\b\b\b\b\b\b\b\b\b\b\b\b\b\b\b\b\b\b\b\b\b\b\b\b\b\b\b\b\b\b\b\b\b\b\b\b\b\b\b\b\b\b\b\b\b\b\b\b\b\b\b\b\b\b\b\b\b\b\b\b\b\b\b\b\b\b\b\b\b\b\b\b\b\b\b\b\b\b\b\b\b\b\b\b\b\b\b\b\b\b\b\b\b\b\b\b\b\b\b\b\b\b\b\b\b\b\b\b\b\b\b\b\b\b\b\b\b\b\b\b\b\b\b\b\b\b\b\b\b\b\b\b\b\b\b\b\b\b\b\b\b\b\b\b\b\b\b\b\b\b\b\b\b\b\b\b\b\b\b\b\b\b\b\b\b\b\b\b\b\b\b\b\b\b\b\b\b\b\b\b\b\b\b\b\b\b\b\b\b\b\b\b\b\b\b\b\b\b\b\b\b\b\b\b\b\b\b\b\b\b\b\b\b\b\b\b\b\b\b\b\b\b\b\b\b\b\b\b\b\b\b\b\b\b\b\b\b\b\b\b\b\b\b\b\b\b\b\b\b\b\b\b\b\b\b\b\b\b\b\b\b\b\b\b\b\b\b\b\b\b\b\b\b\b\b\b\b\b\b\b\b\b\b\b\b\b\b\b\b\b\b\b\b\b\b\b\b\b\b\b\b\b\b\b\b\b\b\b\b\b\b\b\b\b\b\b\b\b\b\b\b\b\b\b\b\b\b\b\b\b\b\b\b\b\b\b\b\b\b\b\b\b\b\b\b\b\b\b\b\b\b\b\b\b\b\b\b\b\b\b\b\b\b\b\b\b\b\b\b\b\b\b\b\b\b\b\b\b\b\b\b\b\b\b\b\b\b\b\b\b\b\b\b\b\b\b\b\b\b\b\b\b\b\b\b\b\b\b\b\b\b\b\b\b\b\b\b\b\b\b\b\b\b\b\b\b\b\b\b\b\b\b\b\b\b\b\b\b\b\b\b\b\b\b\b\b\b\b\b\b\b\b\b\b\b\b\b\b\b\b\b\b\b\b\b\b\b\b\b\b\b\b\b\b\b\b\b\b\b\b\b\b\b\b\b\b\b\b\b\b\b\b\b\b\b\b\b\b\b\b\b\b\b\b\b\b\b\b\b\b\b\b\b\b\b\b\b\b\b\b\b\b\b\b\b\b\b\b\b\b\b\b\b\b\b\b\b\b\b\b\b\b\b\b\b\b\b\b\b\b\b\b\b\b\b\b\b\b\b\b\b\b\b\b\b\b\b\b\b\b\b\b\b\b\b\b\b\b\b\b\b\b\b\b\b\b\b\b\b\b\b\b\b\b\b\b\b\b\b\b\b\b\b\b\b\b\b\b\b\b\b\b\b\b\b\b\b\b\b\b\b\b\b\b\b\b\b\b\b\b\b\b\b\b\b\b\b\b\b\b\b\b\b\b\b\b\b\b\b\b\b\b\b\b\b\b\b\b\b\b\b\b\b\b\b\b\b\b\b\b\b\b\b\b\b\b\b\b\b\b\b\b\b\b\b\b\b\b\b\b\b\b\b\b\b\b\b\b\b\b\b\b\b\b\b\b\b\b\b\b\b\b\b\b\b\b\b\b\b\b\b\b\b\b\b\b\b\n",
      "Epoch 9/10\n",
      "9/9 [==============================] - 69s 8s/step - loss: 4688.5098 - pixel_position_of_nodes_loss: 5859.3403 - adjacency_matrix_loss: 1.0380 - val_loss: 15004.9053 - val_pixel_position_of_nodes_loss: 18754.9414 - val_adjacency_matrix_loss: 0.9525\b\b\b\b\b\b\b\b\b\b\b\b\b\b\b\b\b\b\b\b\b\b\b\b\b\b\b\b\b\b\b\b\b\b\b\b\b\b\b\b\b\b\b\b\b\b\b\b\b\b\b\b\b\b\b\b\b\b\b\b\b\b\b\b\b\b\b\b\b\b\b\b\b\b\b\b\b\b\b\b\b\b\b\b\b\b\b\b\b\b\b\b\b\b\b\b\b\b\b\b\b\b\b\b\b\b\b\b\b\b\b\b\b\b\b\b\b\b\b\b\b\b\b\b\b\b\b\b\b\b\b\b\b\b\b\b\b\b\b\b\b\b\b\b\b\b\b\b\b\b\b\b\b\b\b\b\b\b\b\b\b\b\b\b\b\b\b\b\b\b\b\b\b\b\b\b\b\b\b\b\b\b\b\b\b\b\b\b\b\b\b\b\b\b\b\b\b\b\b\b\b\b\b\b\b\b\b\b\b\b\b\b\b\b\b\b\b\b\b\b\b\b\b\b\b\b\b\b\b\b\b\b\b\b\b\b\b\b\b\b\b\b\b\b\b\b\b\b\b\b\b\b\b\b\b\b\b\b\b\b\b\b\b\b\b\b\b\b\b\b\b\b\b\b\b\b\b\b\b\b\b\b\b\b\b\b\b\b\b\b\b\b\b\b\b\b\b\b\b\b\b\b\b\b\b\b\b\b\b\b\b\b\b\b\b\b\b\b\b\b\b\b\b\b\b\b\b\b\b\b\b\b\b\b\b\b\b\b\b\b\b\b\b\b\b\b\b\b\b\b\b\b\b\b\b\b\b\b\b\b\b\b\b\b\b\b\b\b\b\b\b\b\b\b\b\b\b\b\b\b\b\b\b\b\b\b\b\b\b\b\b\b\b\b\b\b\b\b\b\b\b\b\b\b\b\b\b\b\b\b\b\b\b\b\b\b\b\b\b\b\b\b\b\b\b\b\b\b\b\b\b\b\b\b\b\b\b\b\b\b\b\b\b\b\b\b\b\b\b\b\b\b\b\b\b\b\b\b\b\b\b\b\b\b\b\b\b\b\b\b\b\b\b\b\b\b\b\b\b\b\b\b\b\b\b\b\b\b\b\b\b\b\b\b\b\b\b\b\b\b\b\b\b\b\b\b\b\b\b\b\b\b\b\b\b\b\b\b\b\b\b\b\b\b\b\b\b\b\b\b\b\b\b\b\b\b\b\b\b\b\b\b\b\b\b\b\b\b\b\b\b\b\b\b\b\b\b\b\b\b\b\b\b\b\b\b\b\b\b\b\b\b\b\b\b\b\b\b\b\b\b\b\b\b\b\b\b\b\b\b\b\b\b\b\b\b\b\b\b\b\b\b\b\b\b\b\b\b\b\b\b\b\b\b\b\b\b\b\b\b\b\b\b\b\b\b\b\b\b\b\b\b\b\b\b\b\b\b\b\b\b\b\b\b\b\b\b\b\b\b\b\b\b\b\b\b\b\b\b\b\b\b\b\b\b\b\b\b\b\b\b\b\b\b\b\b\b\b\b\b\b\b\b\b\b\b\b\b\b\b\b\b\b\b\b\b\b\b\b\b\b\b\b\b\b\b\b\b\b\b\b\b\b\b\b\b\b\b\b\b\b\b\b\b\b\b\b\b\b\b\b\b\b\b\b\b\b\b\b\b\b\b\b\b\b\b\b\b\b\b\b\b\b\b\b\b\b\b\b\b\b\b\b\b\b\b\b\b\b\b\b\b\b\b\b\b\b\b\b\b\b\b\b\b\b\b\b\b\b\b\b\b\b\b\b\b\b\b\b\b\b\b\b\b\b\b\b\b\b\b\b\b\b\b\b\b\b\b\b\b\b\b\b\b\b\b\b\b\b\b\b\b\b\b\b\b\b\b\b\b\b\b\b\b\b\b\b\b\b\b\b\b\b\b\b\b\b\b\b\b\b\b\b\b\b\b\b\b\b\b\b\b\b\b\b\b\b\b\b\b\b\b\b\b\b\b\b\b\b\b\b\b\b\b\b\b\b\b\b\b\b\b\b\b\b\b\b\b\b\b\b\b\b\b\b\b\b\b\b\b\b\b\b\b\b\b\b\b\b\b\b\b\b\b\b\b\b\b\b\b\b\b\b\b\b\b\b\b\b\b\b\b\b\b\b\b\b\b\b\b\b\b\b\b\b\b\b\b\b\b\b\b\b\b\b\b\b\b\b\b\b\b\b\b\b\b\b\b\b\b\b\b\b\b\b\b\b\b\b\b\b\b\b\b\b\b\b\b\b\b\b\b\b\b\b\b\b\b\b\b\b\b\b\b\b\b\b\b\b\b\b\b\b\b\b\b\b\b\b\b\b\b\b\b\b\b\b\b\b\b\b\b\b\b\b\b\b\b\b\b\b\b\b\b\b\b\b\b\b\b\b\b\b\b\b\b\b\b\b\b\b\b\b\b\b\b\b\b\b\b\b\b\b\b\b\b\b\b\b\b\b\b\b\b\b\b\b\b\b\b\b\b\b\b\b\b\b\b\b\b\b\b\b\b\b\b\b\b\b\b\b\b\b\b\b\b\b\b\b\b\n",
      "Epoch 10/10\n",
      "3/9 [=========>....................] - ETA: 44s - loss: 1868.2213 - pixel_position_of_nodes_loss: 2333.8928 - adjacency_matrix_loss: 1.1069 \b\b\b\b\b\b\b\b\b\b\b\b\b\b\b\b\b\b\b\b\b\b\b\b\b\b\b\b\b\b\b\b\b\b\b\b\b\b\b\b\b\b\b\b\b\b\b\b\b\b\b\b\b\b\b\b\b\b\b\b\b\b\b\b\b\b\b\b\b\b\b\b\b\b\b\b\b\b\b\b\b\b\b\b\b\b\b\b\b\b\b\b\b\b\b\b\b\b\b\b\b\b\b\b\b\b\b\b\b\b\b\b\b\b\b\b\b\b\b\b\b\b\b\b\b\b\b\b\b\b\b\b\b\b\b\b\b\b\b\b\b\b\b\b\b\b\b\b\b\b\b\b\b\b\b\b\b\b\b\b\b\b\b\b\b\b\b\b\b\b\b\b\b\b\b\b\b\b\b\b\b\b\b\b\b\b\b\b\b\b\b\b\b\b\b\b\b\b\b\b\b\b\b\b\b\b\b\b\b\b\b\b\b\b\b\b\b\b\b\b\b\b\b\b\b\b\b\b\b\b\b\b\b\b\b\b\b\b\b\b\b\b\b\b\b\b\b\b\b\b\b\b\b\b\b\b\b\b\b\b\b\b\b\b\b\b\b\b\b\b\b\b\b\b\b\b\b\b\b"
     ]
    }
   ],
   "source": [
    "from models_graph.losses import loss_node_positions\n",
    "from models_graph.losses import loss_adjacency\n",
    "\n",
    "print(y_train_adjacency.shape)\n",
    "print(y_train_positions.shape)\n",
    "print(y_val_positions.shape)\n",
    "print(y_val_adjacency.shape)\n",
    "# model.fit({'input_image': x_train},{'pixel_position_of_nodes': y_train_positions, 'adjacency_matrix': y_train_adjacency},\n",
    "#           epochs = 1, batch_size=2 ,\n",
    "#           validation_data=({'input_image': x_val},{'pixel_position_of_nodes': y_val_positions, 'adjacency_matrix': y_val_adjacency}),\n",
    "#         )\n",
    "#\n",
    "\n",
    "log_dir = \"logs/fit/\" + datetime.datetime.now().strftime(\"%Y%m%d-%H%M%S\")\n",
    "tensorboard_callback = tf.keras.callbacks.TensorBoard(log_dir=log_dir, histogram_freq=1)\n",
    "\n",
    "history = model.fit(x_train, [y_train_positions, y_train_adjacency],\n",
    "          epochs = 10, batch_size=1 ,\n",
    "          validation_data=(x_val,{'pixel_position_of_nodes': y_val_positions, 'adjacency_matrix': y_val_adjacency}),\n",
    "          callbacks=[tensorboard_callback],)\n",
    "#model.fit(x= x_train,y=[y_train_positions, y_train_adjacency] , epochs=10)"
   ],
   "metadata": {
    "collapsed": false,
    "pycharm": {
     "name": "#%%\n",
     "is_executing": true
    }
   }
  },
  {
   "cell_type": "markdown",
   "source": [
    "## Plot training history"
   ],
   "metadata": {
    "collapsed": false
   }
  },
  {
   "cell_type": "code",
   "execution_count": null,
   "outputs": [],
   "source": [
    "#import numpy as np\n",
    "#save history\n",
    "#np.save('D:\\Documents\\Studium\\Studienarbeit\\keras-unet/my_history.npy',history.history)\n",
    "\n",
    "#load history\n",
    "history = np.load('D:\\Documents\\Studium\\Studienarbeit\\keras-unet/my_history.npy',allow_pickle='TRUE').item()\n",
    "\n",
    "model.history = history"
   ],
   "metadata": {
    "collapsed": false,
    "pycharm": {
     "name": "#%%\n",
     "is_executing": true
    }
   }
  },
  {
   "cell_type": "code",
   "execution_count": null,
   "outputs": [],
   "source": [
    "from keras_unet.utils import plot_segm_history\n",
    "plot_segm_history(history)"
   ],
   "metadata": {
    "collapsed": false,
    "pycharm": {
     "name": "#%%\n",
     "is_executing": true
    }
   }
  },
  {
   "cell_type": "markdown",
   "source": [
    "## Plot original + ground truth + pred + overlay (pred on top of original)"
   ],
   "metadata": {
    "collapsed": false
   }
  },
  {
   "cell_type": "code",
   "execution_count": null,
   "outputs": [],
   "source": [
    "#model.load_weights(model_filename)\n",
    "y_pred = model.predict(x_val)\n",
    "\n",
    "#y_pred = y_pred.reshape((y_pred.shape[0],y_pred.shape[1]/2))"
   ],
   "metadata": {
    "collapsed": false,
    "pycharm": {
     "name": "#%%\n",
     "is_executing": true
    }
   }
  },
  {
   "cell_type": "code",
   "execution_count": null,
   "outputs": [],
   "source": [
    "from keras_unet.utils import plot_imgs\n",
    "plot_imgs(org_imgs=x_val, mask_imgs=y_val, pred_imgs=y_pred, nm_img_to_plot=9)\n"
   ],
   "metadata": {
    "collapsed": false,
    "pycharm": {
     "name": "#%%\n",
     "is_executing": true
    }
   }
  }
 ],
 "metadata": {
  "kernelspec": {
   "name": "pycharm-a8898177",
   "language": "python",
   "display_name": "PyCharm (keras-unet)"
  },
  "language_info": {
   "codemirror_mode": {
    "name": "ipython",
    "version": 2
   },
   "file_extension": ".py",
   "mimetype": "text/x-python",
   "name": "python",
   "nbconvert_exporter": "python",
   "pygments_lexer": "ipython2",
   "version": "2.7.6"
  }
 },
 "nbformat": 4,
 "nbformat_minor": 0
}